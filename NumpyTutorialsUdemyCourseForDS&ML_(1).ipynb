{
  "nbformat": 4,
  "nbformat_minor": 0,
  "metadata": {
    "kernelspec": {
      "display_name": "Python 3",
      "language": "python",
      "name": "python3"
    },
    "language_info": {
      "codemirror_mode": {
        "name": "ipython",
        "version": 3
      },
      "file_extension": ".py",
      "mimetype": "text/x-python",
      "name": "python",
      "nbconvert_exporter": "python",
      "pygments_lexer": "ipython3",
      "version": "3.8.5"
    },
    "colab": {
      "name": "NumpyTutorialsUdemyCourseForDS&ML (1).ipynb",
      "provenance": [],
      "include_colab_link": true
    }
  },
  "cells": [
    {
      "cell_type": "markdown",
      "metadata": {
        "id": "view-in-github",
        "colab_type": "text"
      },
      "source": [
        "<a href=\"https://colab.research.google.com/github/Emmanuel-DS/Emmanuel-DS/blob/main/NumpyTutorialsUdemyCourseForDS%26ML_(1).ipynb\" target=\"_parent\"><img src=\"https://colab.research.google.com/assets/colab-badge.svg\" alt=\"Open In Colab\"/></a>"
      ]
    },
    {
      "cell_type": "markdown",
      "metadata": {
        "id": "fOGcpdUZ0KSW"
      },
      "source": [
        "## Numpy Arrays"
      ]
    },
    {
      "cell_type": "code",
      "metadata": {
        "id": "sXKKEoJa0KS4"
      },
      "source": [
        "import numpy as np"
      ],
      "execution_count": null,
      "outputs": []
    },
    {
      "cell_type": "code",
      "metadata": {
        "id": "JsUSRHJR0KS-"
      },
      "source": [
        "#Creating a numpy Array\n",
        "myList = [1, 2, 3, 4]"
      ],
      "execution_count": null,
      "outputs": []
    },
    {
      "cell_type": "code",
      "metadata": {
        "id": "qyMuffJt0KS_",
        "outputId": "4a407c2e-70fc-4733-a1cb-1484ac78754a"
      },
      "source": [
        "type(myList)               #Currently just a list type"
      ],
      "execution_count": null,
      "outputs": [
        {
          "output_type": "execute_result",
          "data": {
            "text/plain": [
              "list"
            ]
          },
          "metadata": {
            "tags": []
          },
          "execution_count": 3
        }
      ]
    },
    {
      "cell_type": "code",
      "metadata": {
        "id": "7Jqamde50KTF",
        "outputId": "134b4790-28a8-40fc-b6a0-ecca577b7179"
      },
      "source": [
        "np.array(myList)          #Here we pass in what we want to transform using the np"
      ],
      "execution_count": null,
      "outputs": [
        {
          "output_type": "execute_result",
          "data": {
            "text/plain": [
              "array([1, 2, 3, 4])"
            ]
          },
          "metadata": {
            "tags": []
          },
          "execution_count": 4
        }
      ]
    },
    {
      "cell_type": "code",
      "metadata": {
        "id": "UlEJV2xZ0KTK",
        "outputId": "2f936147-0859-48ac-916c-faecd7125cc8"
      },
      "source": [
        "myList                   #this does not change our original list"
      ],
      "execution_count": null,
      "outputs": [
        {
          "output_type": "execute_result",
          "data": {
            "text/plain": [
              "[1, 2, 3, 4]"
            ]
          },
          "metadata": {
            "tags": []
          },
          "execution_count": 5
        }
      ]
    },
    {
      "cell_type": "code",
      "metadata": {
        "id": "fyo387__0KTO"
      },
      "source": [
        "myarr = np.array(myList)"
      ],
      "execution_count": null,
      "outputs": []
    },
    {
      "cell_type": "code",
      "metadata": {
        "id": "PRrLnpAy0KTP",
        "outputId": "a09b196b-f8a8-43a7-f1a8-c8fe87c6fd98"
      },
      "source": [
        "myarr"
      ],
      "execution_count": null,
      "outputs": [
        {
          "output_type": "execute_result",
          "data": {
            "text/plain": [
              "array([1, 2, 3, 4])"
            ]
          },
          "metadata": {
            "tags": []
          },
          "execution_count": 7
        }
      ]
    },
    {
      "cell_type": "code",
      "metadata": {
        "id": "QW0oUSqV0KTQ",
        "outputId": "b433e1db-f157-4329-da03-72ac26e988c7"
      },
      "source": [
        "type(myarr)"
      ],
      "execution_count": null,
      "outputs": [
        {
          "output_type": "execute_result",
          "data": {
            "text/plain": [
              "numpy.ndarray"
            ]
          },
          "metadata": {
            "tags": []
          },
          "execution_count": 8
        }
      ]
    },
    {
      "cell_type": "code",
      "metadata": {
        "id": "z8vmRET60KTS"
      },
      "source": [
        "my_matrix = [[1, 2, 3], [4, 5, 6,], [7, 8, 9]]    # We can expand to two dimension array"
      ],
      "execution_count": null,
      "outputs": []
    },
    {
      "cell_type": "code",
      "metadata": {
        "id": "v3XKmzBF0KTT",
        "outputId": "75d336bc-079f-49c3-a15e-79fd954709f3"
      },
      "source": [
        "my_matrix"
      ],
      "execution_count": null,
      "outputs": [
        {
          "output_type": "execute_result",
          "data": {
            "text/plain": [
              "[[1, 2, 3], [4, 5, 6], [7, 8, 9]]"
            ]
          },
          "metadata": {
            "tags": []
          },
          "execution_count": 10
        }
      ]
    },
    {
      "cell_type": "code",
      "metadata": {
        "id": "Nd6LOgib0KTU",
        "outputId": "0a6fca2e-7de6-4485-c6e6-95114389f6fb"
      },
      "source": [
        "np.array(my_matrix)"
      ],
      "execution_count": null,
      "outputs": [
        {
          "output_type": "execute_result",
          "data": {
            "text/plain": [
              "array([[1, 2, 3],\n",
              "       [4, 5, 6],\n",
              "       [7, 8, 9]])"
            ]
          },
          "metadata": {
            "tags": []
          },
          "execution_count": 11
        }
      ]
    },
    {
      "cell_type": "code",
      "metadata": {
        "id": "knhfSMUJ0KTV",
        "outputId": "caa0fc6c-ce53-4255-880d-59708b673e68"
      },
      "source": [
        "np.arange(0, 10)                #This is the equivalent of python built in range function"
      ],
      "execution_count": null,
      "outputs": [
        {
          "output_type": "execute_result",
          "data": {
            "text/plain": [
              "array([0, 1, 2, 3, 4, 5, 6, 7, 8, 9])"
            ]
          },
          "metadata": {
            "tags": []
          },
          "execution_count": 13
        }
      ]
    },
    {
      "cell_type": "code",
      "metadata": {
        "id": "r5df7uOZ0KTW",
        "outputId": "6f9d5e07-b8cb-45d0-d8c6-93079a700ccb"
      },
      "source": [
        "np.arange(0, 10, 2)    # we just added a step size. It goes up to the range number but not the stopping point"
      ],
      "execution_count": null,
      "outputs": [
        {
          "output_type": "execute_result",
          "data": {
            "text/plain": [
              "array([0, 2, 4, 6, 8])"
            ]
          },
          "metadata": {
            "tags": []
          },
          "execution_count": 14
        }
      ]
    },
    {
      "cell_type": "code",
      "metadata": {
        "id": "6d6I07Bv0KTb",
        "outputId": "2358ed87-a910-45f9-aa29-a8592e65f1da"
      },
      "source": [
        "np.zeros(5)            #Creating an arrays of Zeros. By default numpy return values in floating point numbers"
      ],
      "execution_count": null,
      "outputs": [
        {
          "output_type": "execute_result",
          "data": {
            "text/plain": [
              "array([0., 0., 0., 0., 0.])"
            ]
          },
          "metadata": {
            "tags": []
          },
          "execution_count": 15
        }
      ]
    },
    {
      "cell_type": "code",
      "metadata": {
        "id": "MxzZOA4-0KUe",
        "outputId": "c5cab2f0-df3f-41d2-c7f0-ea20e4e25806"
      },
      "source": [
        "np.zeros((5, 5))       #Note the two parenthesis"
      ],
      "execution_count": null,
      "outputs": [
        {
          "output_type": "execute_result",
          "data": {
            "text/plain": [
              "array([[0., 0., 0., 0., 0.],\n",
              "       [0., 0., 0., 0., 0.],\n",
              "       [0., 0., 0., 0., 0.],\n",
              "       [0., 0., 0., 0., 0.],\n",
              "       [0., 0., 0., 0., 0.]])"
            ]
          },
          "metadata": {
            "tags": []
          },
          "execution_count": 17
        }
      ]
    },
    {
      "cell_type": "code",
      "metadata": {
        "id": "UktbqCpC0KUi",
        "outputId": "f8b98884-31b3-4613-9940-f3e11acd1bef"
      },
      "source": [
        "np.zeros((2, 5))     #Number of rows goes first, and the column second"
      ],
      "execution_count": null,
      "outputs": [
        {
          "output_type": "execute_result",
          "data": {
            "text/plain": [
              "array([[0., 0., 0., 0., 0.],\n",
              "       [0., 0., 0., 0., 0.]])"
            ]
          },
          "metadata": {
            "tags": []
          },
          "execution_count": 18
        }
      ]
    },
    {
      "cell_type": "code",
      "metadata": {
        "id": "lmN_Ze2k0KUj",
        "outputId": "ddcd1d98-75fc-4772-d6e3-a0efcecf28a6"
      },
      "source": [
        "np.ones((4, 4))"
      ],
      "execution_count": null,
      "outputs": [
        {
          "output_type": "execute_result",
          "data": {
            "text/plain": [
              "array([[1., 1., 1., 1.],\n",
              "       [1., 1., 1., 1.],\n",
              "       [1., 1., 1., 1.],\n",
              "       [1., 1., 1., 1.]])"
            ]
          },
          "metadata": {
            "tags": []
          },
          "execution_count": 19
        }
      ]
    },
    {
      "cell_type": "code",
      "metadata": {
        "id": "LDp3CRao0KUm",
        "outputId": "6b49486d-3fd1-4ec1-b6b9-165191f1d01f"
      },
      "source": [
        "np.ones(5)             #one parenthesis"
      ],
      "execution_count": null,
      "outputs": [
        {
          "output_type": "execute_result",
          "data": {
            "text/plain": [
              "array([1., 1., 1., 1., 1.])"
            ]
          },
          "metadata": {
            "tags": []
          },
          "execution_count": 20
        }
      ]
    },
    {
      "cell_type": "code",
      "metadata": {
        "id": "mdjZdu8a0KUp",
        "outputId": "32e50ba3-60a6-4f6f-da04-6a3eeb95ef74"
      },
      "source": [
        "np.linspace(0, 10, 3)         #This functon return evenly spaced number over a specified interval and includes the last no\n",
        "                    #Be careful not to confuse it with the arange function"
      ],
      "execution_count": null,
      "outputs": [
        {
          "output_type": "execute_result",
          "data": {
            "text/plain": [
              "array([ 0.,  5., 10.])"
            ]
          },
          "metadata": {
            "tags": []
          },
          "execution_count": 21
        }
      ]
    },
    {
      "cell_type": "code",
      "metadata": {
        "id": "xBlC1SB50KUr",
        "outputId": "26603fac-9225-40c9-bcec-2f2a2e50cb3f"
      },
      "source": [
        "np.linspace(0, 10, 11)"
      ],
      "execution_count": null,
      "outputs": [
        {
          "output_type": "execute_result",
          "data": {
            "text/plain": [
              "array([ 0.,  1.,  2.,  3.,  4.,  5.,  6.,  7.,  8.,  9., 10.])"
            ]
          },
          "metadata": {
            "tags": []
          },
          "execution_count": 22
        }
      ]
    },
    {
      "cell_type": "code",
      "metadata": {
        "id": "cH2NMZDk0KUs",
        "outputId": "6519ed90-3341-4968-e32d-ba1bbdfa565b"
      },
      "source": [
        "np.linspace(0, 5, 21)"
      ],
      "execution_count": null,
      "outputs": [
        {
          "output_type": "execute_result",
          "data": {
            "text/plain": [
              "array([0.  , 0.25, 0.5 , 0.75, 1.  , 1.25, 1.5 , 1.75, 2.  , 2.25, 2.5 ,\n",
              "       2.75, 3.  , 3.25, 3.5 , 3.75, 4.  , 4.25, 4.5 , 4.75, 5.  ])"
            ]
          },
          "metadata": {
            "tags": []
          },
          "execution_count": 23
        }
      ]
    },
    {
      "cell_type": "code",
      "metadata": {
        "id": "rzo27lS_0KVa",
        "outputId": "7a14e74b-3d42-4734-f044-b535cc5b3a16"
      },
      "source": [
        "len(np.linspace(0, 5, 21))"
      ],
      "execution_count": null,
      "outputs": [
        {
          "output_type": "execute_result",
          "data": {
            "text/plain": [
              "21"
            ]
          },
          "metadata": {
            "tags": []
          },
          "execution_count": 24
        }
      ]
    },
    {
      "cell_type": "code",
      "metadata": {
        "id": "LbQynohJ0KVb",
        "outputId": "bf212d82-95ac-4a6a-a29c-2d9a69dcaf0c"
      },
      "source": [
        "np.eye(5)                 #this is used to create Identity matrice with a single number. Common with linear algebra"
      ],
      "execution_count": null,
      "outputs": [
        {
          "output_type": "execute_result",
          "data": {
            "text/plain": [
              "array([[1., 0., 0., 0., 0.],\n",
              "       [0., 1., 0., 0., 0.],\n",
              "       [0., 0., 1., 0., 0.],\n",
              "       [0., 0., 0., 1., 0.],\n",
              "       [0., 0., 0., 0., 1.]])"
            ]
          },
          "metadata": {
            "tags": []
          },
          "execution_count": 27
        }
      ]
    },
    {
      "cell_type": "code",
      "metadata": {
        "id": "WYi2o-zp0KVc",
        "outputId": "6003a5c8-2940-4153-c29a-0d2437453d4a"
      },
      "source": [
        "np.random.rand(1)          #Here we want to create a random distributions of data. Everytime we run, a difft no is given"
      ],
      "execution_count": null,
      "outputs": [
        {
          "output_type": "execute_result",
          "data": {
            "text/plain": [
              "array([0.4669566])"
            ]
          },
          "metadata": {
            "tags": []
          },
          "execution_count": 30
        }
      ]
    },
    {
      "cell_type": "code",
      "metadata": {
        "id": "K0yLyACJ0KVj",
        "outputId": "59d8a02e-d702-4645-ed4b-d9012163c9c1"
      },
      "source": [
        "np.random.rand(5, 6)       #Here passing in a shape. 5 rows 6 columns"
      ],
      "execution_count": null,
      "outputs": [
        {
          "output_type": "execute_result",
          "data": {
            "text/plain": [
              "array([[0.41500316, 0.99585643, 0.05403575, 0.4525544 , 0.036948  ,\n",
              "        0.20359564],\n",
              "       [0.54513289, 0.22977062, 0.52426614, 0.57420086, 0.07415124,\n",
              "        0.33615217],\n",
              "       [0.45542328, 0.35386375, 0.62979444, 0.92659237, 0.25799049,\n",
              "        0.95547545],\n",
              "       [0.41108597, 0.78166776, 0.83715983, 0.22465124, 0.55774586,\n",
              "        0.7885653 ],\n",
              "       [0.69201388, 0.30063361, 0.40920311, 0.83700827, 0.10619778,\n",
              "        0.17527926]])"
            ]
          },
          "metadata": {
            "tags": []
          },
          "execution_count": 31
        }
      ]
    },
    {
      "cell_type": "code",
      "metadata": {
        "id": "i17ss-PL0KVl",
        "outputId": "7788dde7-9ee0-421a-8bd3-0eb69db59b42"
      },
      "source": [
        "np.random.randn(10)            #here we are creating sample for standard normal random distributions"
      ],
      "execution_count": null,
      "outputs": [
        {
          "output_type": "execute_result",
          "data": {
            "text/plain": [
              "array([ 0.68385512,  0.88127779, -0.47843825,  0.06770535,  1.18369067,\n",
              "        0.01820683, -0.39247593,  0.39914613, -2.48157603,  0.80103896])"
            ]
          },
          "metadata": {
            "tags": []
          },
          "execution_count": 32
        }
      ]
    },
    {
      "cell_type": "code",
      "metadata": {
        "id": "v-Qc160z0KVm",
        "outputId": "a93ff71e-f15a-4a3d-ec47-43aa5a0b66c8"
      },
      "source": [
        "np.random.randn(2, 3)"
      ],
      "execution_count": null,
      "outputs": [
        {
          "output_type": "execute_result",
          "data": {
            "text/plain": [
              "array([[ 0.32628216, -2.06321229,  0.35351117],\n",
              "       [ 0.32849732, -1.13563563, -0.67396633]])"
            ]
          },
          "metadata": {
            "tags": []
          },
          "execution_count": 33
        }
      ]
    },
    {
      "cell_type": "code",
      "metadata": {
        "id": "Lp88l2_G0KVp",
        "outputId": "7f990048-0f48-42d1-f4e5-a91d189d6039"
      },
      "source": [
        "np.random.randint(0, 101, 5)        # This returns back random integers"
      ],
      "execution_count": null,
      "outputs": [
        {
          "output_type": "execute_result",
          "data": {
            "text/plain": [
              "array([98, 29, 83, 76, 70])"
            ]
          },
          "metadata": {
            "tags": []
          },
          "execution_count": 34
        }
      ]
    },
    {
      "cell_type": "code",
      "metadata": {
        "id": "bme9IIwc0KVq",
        "outputId": "88b4d660-8324-41e2-a489-b084e61d24c2"
      },
      "source": [
        "np.random.randint(0, 101, 20)       #Here 20 random ints will be given"
      ],
      "execution_count": null,
      "outputs": [
        {
          "output_type": "execute_result",
          "data": {
            "text/plain": [
              "array([ 25,  83,   1,  24,  68,  93,  35,  27,  58,  32,  44,  15, 100,\n",
              "        74,  62,  69,  27,  93,   5,   5])"
            ]
          },
          "metadata": {
            "tags": []
          },
          "execution_count": 35
        }
      ]
    },
    {
      "cell_type": "code",
      "metadata": {
        "id": "_bRI645_0KVr",
        "outputId": "78b53cd1-c4a5-476d-ab86-aee277b4c1b6"
      },
      "source": [
        "np.random.randint(0, 101, (4, 5))     #four by five array"
      ],
      "execution_count": null,
      "outputs": [
        {
          "output_type": "execute_result",
          "data": {
            "text/plain": [
              "array([[30, 16, 22, 78, 18],\n",
              "       [15, 19, 56, 53, 87],\n",
              "       [41, 96, 40, 48, 35],\n",
              "       [53, 92, 54, 17, 56]])"
            ]
          },
          "metadata": {
            "tags": []
          },
          "execution_count": 36
        }
      ]
    },
    {
      "cell_type": "code",
      "metadata": {
        "id": "-w0e_f7Y0KVu",
        "outputId": "867d082b-5280-47e1-c079-2814e63964fd"
      },
      "source": [
        "np.random.seed(42)              #Seed allows us to set a particular set of random numbers. We choose arbitrary number 42\n",
        "np.random.rand(4)               #Any arbitrary number can be choosen"
      ],
      "execution_count": null,
      "outputs": [
        {
          "output_type": "execute_result",
          "data": {
            "text/plain": [
              "array([0.37454012, 0.95071431, 0.73199394, 0.59865848])"
            ]
          },
          "metadata": {
            "tags": []
          },
          "execution_count": 37
        }
      ]
    },
    {
      "cell_type": "code",
      "metadata": {
        "id": "seHye__40KVw",
        "outputId": "9ca99c1c-14da-4203-9b6e-8a6377c9b0c9"
      },
      "source": [
        "np.random.rand(4)               #We got a difft random number but if we need the same set of numbers, we must use seed"
      ],
      "execution_count": null,
      "outputs": [
        {
          "output_type": "execute_result",
          "data": {
            "text/plain": [
              "array([0.15601864, 0.15599452, 0.05808361, 0.86617615])"
            ]
          },
          "metadata": {
            "tags": []
          },
          "execution_count": 38
        }
      ]
    },
    {
      "cell_type": "code",
      "metadata": {
        "id": "0MIcL6ml0KVx",
        "outputId": "2626cd70-e3dc-435b-a27a-60bb2bb48f4d"
      },
      "source": [
        "np.random.seed(42)              #Trying it again. We got the same set of numbers\n",
        "np.random.rand(4)"
      ],
      "execution_count": null,
      "outputs": [
        {
          "output_type": "execute_result",
          "data": {
            "text/plain": [
              "array([0.37454012, 0.95071431, 0.73199394, 0.59865848])"
            ]
          },
          "metadata": {
            "tags": []
          },
          "execution_count": 39
        }
      ]
    },
    {
      "cell_type": "code",
      "metadata": {
        "id": "jJgrbZVX0KV3",
        "outputId": "c0a97eea-fbc7-45eb-dc1c-33b292ef3bf0"
      },
      "source": [
        "arr = np.arange(0, 25)\n",
        "arr"
      ],
      "execution_count": null,
      "outputs": [
        {
          "output_type": "execute_result",
          "data": {
            "text/plain": [
              "array([ 0,  1,  2,  3,  4,  5,  6,  7,  8,  9, 10, 11, 12, 13, 14, 15, 16,\n",
              "       17, 18, 19, 20, 21, 22, 23, 24])"
            ]
          },
          "metadata": {
            "tags": []
          },
          "execution_count": 40
        }
      ]
    },
    {
      "cell_type": "code",
      "metadata": {
        "id": "jPUoJESa0KV4",
        "outputId": "7a9573bb-d652-4982-d432-30d10ad5dffb"
      },
      "source": [
        "arr.reshape(5, 5)      #we can reshape our arrays, say to 5 x 5 cos it's 25 elements. The same set of numbers came up"
      ],
      "execution_count": null,
      "outputs": [
        {
          "output_type": "execute_result",
          "data": {
            "text/plain": [
              "array([[ 0,  1,  2,  3,  4],\n",
              "       [ 5,  6,  7,  8,  9],\n",
              "       [10, 11, 12, 13, 14],\n",
              "       [15, 16, 17, 18, 19],\n",
              "       [20, 21, 22, 23, 24]])"
            ]
          },
          "metadata": {
            "tags": []
          },
          "execution_count": 42
        }
      ]
    },
    {
      "cell_type": "code",
      "metadata": {
        "id": "_nicKLA_0KV5",
        "outputId": "0e6ec281-c3f2-4b64-8a9a-31ba59e17ec1"
      },
      "source": [
        "ran_arr = np.random.randint(0, 101, 10)\n",
        "ran_arr"
      ],
      "execution_count": null,
      "outputs": [
        {
          "output_type": "execute_result",
          "data": {
            "text/plain": [
              "array([ 1, 87, 29, 37,  1, 63, 59, 20, 32, 75])"
            ]
          },
          "metadata": {
            "tags": []
          },
          "execution_count": 44
        }
      ]
    },
    {
      "cell_type": "code",
      "metadata": {
        "id": "-mnj-XLP0KV7",
        "outputId": "5ce6e526-0e5c-4dca-f365-c37d74320444"
      },
      "source": [
        "ran_arr.max()        #To get the maximum value in the array"
      ],
      "execution_count": null,
      "outputs": [
        {
          "output_type": "execute_result",
          "data": {
            "text/plain": [
              "87"
            ]
          },
          "metadata": {
            "tags": []
          },
          "execution_count": 45
        }
      ]
    },
    {
      "cell_type": "code",
      "metadata": {
        "id": "fk_q_6up0KV9",
        "outputId": "90524d05-c452-4956-d6b8-042e15d5cb83"
      },
      "source": [
        "ran_arr.min()        #To get the minimum value in the array"
      ],
      "execution_count": null,
      "outputs": [
        {
          "output_type": "execute_result",
          "data": {
            "text/plain": [
              "1"
            ]
          },
          "metadata": {
            "tags": []
          },
          "execution_count": 46
        }
      ]
    },
    {
      "cell_type": "code",
      "metadata": {
        "id": "LnB1wr1B0KV-",
        "outputId": "867195d6-0fd8-4f06-dc08-67210555c045"
      },
      "source": [
        "ran_arr.argmax()      #We want to know the index location of the max value"
      ],
      "execution_count": null,
      "outputs": [
        {
          "output_type": "execute_result",
          "data": {
            "text/plain": [
              "1"
            ]
          },
          "metadata": {
            "tags": []
          },
          "execution_count": 47
        }
      ]
    },
    {
      "cell_type": "code",
      "metadata": {
        "id": "O8VM--TG0KWt",
        "outputId": "4799b5ae-cf08-4112-c35c-9ba9b85b42c6"
      },
      "source": [
        "ran_arr.argmin()"
      ],
      "execution_count": null,
      "outputs": [
        {
          "output_type": "execute_result",
          "data": {
            "text/plain": [
              "0"
            ]
          },
          "metadata": {
            "tags": []
          },
          "execution_count": 48
        }
      ]
    },
    {
      "cell_type": "code",
      "metadata": {
        "id": "g2F84IpT0KWu",
        "outputId": "619a8f7d-492d-40f3-d2e8-a7c4f350982c"
      },
      "source": [
        "ran_arr.dtype        #To check the datatype of array"
      ],
      "execution_count": null,
      "outputs": [
        {
          "output_type": "execute_result",
          "data": {
            "text/plain": [
              "dtype('int32')"
            ]
          },
          "metadata": {
            "tags": []
          },
          "execution_count": 49
        }
      ]
    },
    {
      "cell_type": "code",
      "metadata": {
        "id": "Xn9zymSD0KWw",
        "outputId": "f8b4d3e8-9f68-4be6-8a72-efe8ad6bb700"
      },
      "source": [
        "arr"
      ],
      "execution_count": null,
      "outputs": [
        {
          "output_type": "execute_result",
          "data": {
            "text/plain": [
              "array([ 0,  1,  2,  3,  4,  5,  6,  7,  8,  9, 10, 11, 12, 13, 14, 15, 16,\n",
              "       17, 18, 19, 20, 21, 22, 23, 24])"
            ]
          },
          "metadata": {
            "tags": []
          },
          "execution_count": 50
        }
      ]
    },
    {
      "cell_type": "code",
      "metadata": {
        "id": "tc0KmuQc0KWx",
        "outputId": "b2f85744-f977-4b6d-c5a6-c8bb63084307"
      },
      "source": [
        "arr.shape"
      ],
      "execution_count": null,
      "outputs": [
        {
          "output_type": "execute_result",
          "data": {
            "text/plain": [
              "(25,)"
            ]
          },
          "metadata": {
            "tags": []
          },
          "execution_count": 51
        }
      ]
    },
    {
      "cell_type": "code",
      "metadata": {
        "id": "3Ob4mAZh0KW0"
      },
      "source": [
        "arr = arr.reshape(5, 5)"
      ],
      "execution_count": null,
      "outputs": []
    },
    {
      "cell_type": "code",
      "metadata": {
        "id": "XXdXBoSd0KW4",
        "outputId": "81701478-6a5f-43ca-ed74-616bb52f207f"
      },
      "source": [
        "arr"
      ],
      "execution_count": null,
      "outputs": [
        {
          "output_type": "execute_result",
          "data": {
            "text/plain": [
              "array([[ 0,  1,  2,  3,  4],\n",
              "       [ 5,  6,  7,  8,  9],\n",
              "       [10, 11, 12, 13, 14],\n",
              "       [15, 16, 17, 18, 19],\n",
              "       [20, 21, 22, 23, 24]])"
            ]
          },
          "metadata": {
            "tags": []
          },
          "execution_count": 53
        }
      ]
    },
    {
      "cell_type": "code",
      "metadata": {
        "id": "WxtjYHOt0KW5",
        "outputId": "392d1d13-58ad-40c8-dfb7-f2eeb80d6ed7"
      },
      "source": [
        "arr.shape"
      ],
      "execution_count": null,
      "outputs": [
        {
          "output_type": "execute_result",
          "data": {
            "text/plain": [
              "(5, 5)"
            ]
          },
          "metadata": {
            "tags": []
          },
          "execution_count": 54
        }
      ]
    },
    {
      "cell_type": "code",
      "metadata": {
        "id": "Wtk0DnW80KW8",
        "outputId": "d28dae86-d64a-4395-d086-2abaaa46f2b6"
      },
      "source": [
        "arr.reshape(25, 1)"
      ],
      "execution_count": null,
      "outputs": [
        {
          "output_type": "execute_result",
          "data": {
            "text/plain": [
              "array([[ 0],\n",
              "       [ 1],\n",
              "       [ 2],\n",
              "       [ 3],\n",
              "       [ 4],\n",
              "       [ 5],\n",
              "       [ 6],\n",
              "       [ 7],\n",
              "       [ 8],\n",
              "       [ 9],\n",
              "       [10],\n",
              "       [11],\n",
              "       [12],\n",
              "       [13],\n",
              "       [14],\n",
              "       [15],\n",
              "       [16],\n",
              "       [17],\n",
              "       [18],\n",
              "       [19],\n",
              "       [20],\n",
              "       [21],\n",
              "       [22],\n",
              "       [23],\n",
              "       [24]])"
            ]
          },
          "metadata": {
            "tags": []
          },
          "execution_count": 55
        }
      ]
    },
    {
      "cell_type": "code",
      "metadata": {
        "id": "eBmhQJrh0KW9",
        "outputId": "606dd5f3-fd8d-4493-d247-e1a4f303eb09"
      },
      "source": [
        "arr.reshape(1, 25) #we have two set of brackets of one row consisting one colume"
      ],
      "execution_count": null,
      "outputs": [
        {
          "output_type": "execute_result",
          "data": {
            "text/plain": [
              "array([[ 0,  1,  2,  3,  4,  5,  6,  7,  8,  9, 10, 11, 12, 13, 14, 15,\n",
              "        16, 17, 18, 19, 20, 21, 22, 23, 24]])"
            ]
          },
          "metadata": {
            "tags": []
          },
          "execution_count": 56
        }
      ]
    },
    {
      "cell_type": "code",
      "metadata": {
        "id": "TcY5hOyX0KW-"
      },
      "source": [
        "import numpy as np"
      ],
      "execution_count": null,
      "outputs": []
    },
    {
      "cell_type": "code",
      "metadata": {
        "id": "Zx9kLLk20KXA"
      },
      "source": [
        "my_arr = np.arange(0, 11)"
      ],
      "execution_count": null,
      "outputs": []
    },
    {
      "cell_type": "code",
      "metadata": {
        "id": "MCBpsREC0KXF",
        "outputId": "208ff7f9-1989-4f63-875b-83f82145ddbb"
      },
      "source": [
        "my_arr"
      ],
      "execution_count": null,
      "outputs": [
        {
          "output_type": "execute_result",
          "data": {
            "text/plain": [
              "array([ 0,  1,  2,  3,  4,  5,  6,  7,  8,  9, 10])"
            ]
          },
          "metadata": {
            "tags": []
          },
          "execution_count": 13
        }
      ]
    },
    {
      "cell_type": "code",
      "metadata": {
        "id": "7yO6h-490KXI",
        "outputId": "45d2af9f-150d-4437-d659-455092a48a4a"
      },
      "source": [
        "my_arr[7]      #Selecting a single index"
      ],
      "execution_count": null,
      "outputs": [
        {
          "output_type": "execute_result",
          "data": {
            "text/plain": [
              "7"
            ]
          },
          "metadata": {
            "tags": []
          },
          "execution_count": 14
        }
      ]
    },
    {
      "cell_type": "code",
      "metadata": {
        "id": "On1E-Q8p0KXJ",
        "outputId": "7d02f5a9-8464-43de-f165-6464cefbb9ee"
      },
      "source": [
        "my_arr[1:5]    #Selecting some element up t but not including the last number"
      ],
      "execution_count": null,
      "outputs": [
        {
          "output_type": "execute_result",
          "data": {
            "text/plain": [
              "array([1, 2, 3, 4])"
            ]
          },
          "metadata": {
            "tags": []
          },
          "execution_count": 15
        }
      ]
    },
    {
      "cell_type": "code",
      "metadata": {
        "id": "FrjKA4CM0KXM",
        "outputId": "74f7bcb2-c5d3-460a-8a04-ebe1a1b88f77"
      },
      "source": [
        "my_arr[:5]"
      ],
      "execution_count": null,
      "outputs": [
        {
          "output_type": "execute_result",
          "data": {
            "text/plain": [
              "array([0, 1, 2, 3, 4])"
            ]
          },
          "metadata": {
            "tags": []
          },
          "execution_count": 16
        }
      ]
    },
    {
      "cell_type": "code",
      "metadata": {
        "id": "lrAVsBVB0KXN",
        "outputId": "68144c01-51c4-4ea7-d5c4-145ec5a6e127"
      },
      "source": [
        "my_arr[5:]     #Selecting from a particular point to the end"
      ],
      "execution_count": null,
      "outputs": [
        {
          "output_type": "execute_result",
          "data": {
            "text/plain": [
              "array([ 5,  6,  7,  8,  9, 10])"
            ]
          },
          "metadata": {
            "tags": []
          },
          "execution_count": 17
        }
      ]
    },
    {
      "cell_type": "code",
      "metadata": {
        "id": "mY1HmLZ_0KXO",
        "outputId": "bf2994ea-885f-41b6-851c-f44f92791be4"
      },
      "source": [
        "my_arr"
      ],
      "execution_count": null,
      "outputs": [
        {
          "output_type": "execute_result",
          "data": {
            "text/plain": [
              "array([ 0,  1,  2,  3,  4,  5,  6,  7,  8,  9, 10])"
            ]
          },
          "metadata": {
            "tags": []
          },
          "execution_count": 18
        }
      ]
    },
    {
      "cell_type": "code",
      "metadata": {
        "id": "GfYrHprA0KXQ"
      },
      "source": [
        "my_arr[0:5] = 100      #We are broadcasting. The values has been change"
      ],
      "execution_count": null,
      "outputs": []
    },
    {
      "cell_type": "code",
      "metadata": {
        "id": "g9otAF1x0KXY",
        "outputId": "b4b96fb6-6af8-4839-8c54-5fcff099986b"
      },
      "source": [
        "my_arr"
      ],
      "execution_count": null,
      "outputs": [
        {
          "output_type": "execute_result",
          "data": {
            "text/plain": [
              "array([100, 100, 100, 100, 100,   5,   6,   7,   8,   9,  10])"
            ]
          },
          "metadata": {
            "tags": []
          },
          "execution_count": 20
        }
      ]
    },
    {
      "cell_type": "code",
      "metadata": {
        "id": "WreoKd7i0KXZ"
      },
      "source": [
        "my_arr = np.arange(0, 11)       #We reset of array back"
      ],
      "execution_count": null,
      "outputs": []
    },
    {
      "cell_type": "code",
      "metadata": {
        "id": "lAz522t70KX-",
        "outputId": "a4b65de9-b133-41b3-ab2c-f05e1bee145d"
      },
      "source": [
        "slice_of_arr = my_arr[0:5]      #Slicing of Array\n",
        "slice_of_arr"
      ],
      "execution_count": null,
      "outputs": [
        {
          "output_type": "execute_result",
          "data": {
            "text/plain": [
              "array([0, 1, 2, 3, 4])"
            ]
          },
          "metadata": {
            "tags": []
          },
          "execution_count": 23
        }
      ]
    },
    {
      "cell_type": "code",
      "metadata": {
        "id": "KTFYzzgR0KYB",
        "outputId": "3a0650b5-a4be-4b77-a5d4-7f67919a8296"
      },
      "source": [
        "my_arr"
      ],
      "execution_count": null,
      "outputs": [
        {
          "output_type": "execute_result",
          "data": {
            "text/plain": [
              "array([ 0,  1,  2,  3,  4,  5,  6,  7,  8,  9, 10])"
            ]
          },
          "metadata": {
            "tags": []
          },
          "execution_count": 24
        }
      ]
    },
    {
      "cell_type": "code",
      "metadata": {
        "id": "-_euJPbv0KYC",
        "outputId": "cfa2a7e6-c932-465c-c5e4-d80bf9f5e5fa"
      },
      "source": [
        "slice_of_arr[:] = 88   # SLicing a part and assigning new value to it\n",
        "slice_of_arr"
      ],
      "execution_count": null,
      "outputs": [
        {
          "output_type": "execute_result",
          "data": {
            "text/plain": [
              "array([88, 88, 88, 88, 88])"
            ]
          },
          "metadata": {
            "tags": []
          },
          "execution_count": 25
        }
      ]
    },
    {
      "cell_type": "code",
      "metadata": {
        "id": "3oTYlWeu0KYH"
      },
      "source": [
        "my_arr_copy = my_arr.copy()"
      ],
      "execution_count": null,
      "outputs": []
    },
    {
      "cell_type": "code",
      "metadata": {
        "id": "jO9Uuy650KYK",
        "outputId": "a2b0a83c-5c6a-4411-9e68-e8a11c17e2de"
      },
      "source": [
        "my_arr_copy[:] = 100    #We are changing all the value\n",
        "my_arr_copy"
      ],
      "execution_count": null,
      "outputs": [
        {
          "output_type": "execute_result",
          "data": {
            "text/plain": [
              "array([100, 100, 100, 100, 100, 100, 100, 100, 100, 100, 100])"
            ]
          },
          "metadata": {
            "tags": []
          },
          "execution_count": 28
        }
      ]
    },
    {
      "cell_type": "code",
      "metadata": {
        "id": "7M47UY1p0KYN",
        "outputId": "8be57aa6-fa21-437d-d0fe-2cd1bcad5d84"
      },
      "source": [
        "my_arr"
      ],
      "execution_count": null,
      "outputs": [
        {
          "output_type": "execute_result",
          "data": {
            "text/plain": [
              "array([88, 88, 88, 88, 88,  5,  6,  7,  8,  9, 10])"
            ]
          },
          "metadata": {
            "tags": []
          },
          "execution_count": 29
        }
      ]
    },
    {
      "cell_type": "code",
      "metadata": {
        "id": "2GSWsyEb0KYO"
      },
      "source": [
        "my_arr_2d = np.array([[5, 10, 15], [20, 25, 30], [35, 45, 50]])    # We have a 2d array"
      ],
      "execution_count": null,
      "outputs": []
    },
    {
      "cell_type": "code",
      "metadata": {
        "id": "AuGAhM7o0KYR",
        "outputId": "524ee627-701b-4b77-b3f9-59453748fd55"
      },
      "source": [
        "my_arr_2d"
      ],
      "execution_count": null,
      "outputs": [
        {
          "output_type": "execute_result",
          "data": {
            "text/plain": [
              "array([[ 5, 10, 15],\n",
              "       [20, 25, 30],\n",
              "       [35, 45, 50]])"
            ]
          },
          "metadata": {
            "tags": []
          },
          "execution_count": 33
        }
      ]
    },
    {
      "cell_type": "code",
      "metadata": {
        "id": "X-EVXnEx0KYX",
        "outputId": "17d33f23-75c6-4be7-ed5f-01c9483cbed8"
      },
      "source": [
        "my_arr_2d.shape       #This retuns back the number of rolls and column"
      ],
      "execution_count": null,
      "outputs": [
        {
          "output_type": "execute_result",
          "data": {
            "text/plain": [
              "(3, 3)"
            ]
          },
          "metadata": {
            "tags": []
          },
          "execution_count": 34
        }
      ]
    },
    {
      "cell_type": "code",
      "metadata": {
        "id": "FIxJAueo0KYb",
        "outputId": "56dd42c0-1a37-432a-a316-9cb3c6570ae3"
      },
      "source": [
        "my_arr_2d[0]       #getting the first row"
      ],
      "execution_count": null,
      "outputs": [
        {
          "output_type": "execute_result",
          "data": {
            "text/plain": [
              "array([ 5, 10, 15])"
            ]
          },
          "metadata": {
            "tags": []
          },
          "execution_count": 35
        }
      ]
    },
    {
      "cell_type": "code",
      "metadata": {
        "id": "oTpgtRoG0KYc",
        "outputId": "ec2e187e-295b-40b8-bf79-d4b936579132"
      },
      "source": [
        "my_arr_2d[2]        #getting index 2"
      ],
      "execution_count": null,
      "outputs": [
        {
          "output_type": "execute_result",
          "data": {
            "text/plain": [
              "array([35, 45, 50])"
            ]
          },
          "metadata": {
            "tags": []
          },
          "execution_count": 36
        }
      ]
    },
    {
      "cell_type": "code",
      "metadata": {
        "id": "-56KVJnm0KYe",
        "outputId": "86109a48-c899-4e64-b767-8de11dfb8e45"
      },
      "source": [
        "my_arr_2d[2][1]     #getting row 2 index 1"
      ],
      "execution_count": null,
      "outputs": [
        {
          "output_type": "execute_result",
          "data": {
            "text/plain": [
              "45"
            ]
          },
          "metadata": {
            "tags": []
          },
          "execution_count": 38
        }
      ]
    },
    {
      "cell_type": "code",
      "metadata": {
        "id": "AtnFkRkS0KYg",
        "outputId": "3225be9e-9f8d-4aba-d423-4fc573a4afa8"
      },
      "source": [
        "my_arr_2d[1, 2]    #Alternatively can be done this way"
      ],
      "execution_count": null,
      "outputs": [
        {
          "output_type": "execute_result",
          "data": {
            "text/plain": [
              "30"
            ]
          },
          "metadata": {
            "tags": []
          },
          "execution_count": 39
        }
      ]
    },
    {
      "cell_type": "code",
      "metadata": {
        "id": "9oEwBz3F0KYh",
        "outputId": "35c8963c-60cd-4928-fcd1-a9597a0117c6"
      },
      "source": [
        "my_arr_2d[:2]      #grabbing first two rows. Up to but not including 2"
      ],
      "execution_count": null,
      "outputs": [
        {
          "output_type": "execute_result",
          "data": {
            "text/plain": [
              "array([[ 5, 10, 15],\n",
              "       [20, 25, 30]])"
            ]
          },
          "metadata": {
            "tags": []
          },
          "execution_count": 40
        }
      ]
    },
    {
      "cell_type": "code",
      "metadata": {
        "id": "0MXPxUXu0KYl",
        "outputId": "40f9759f-09f9-4edf-b4d7-f18926b53948"
      },
      "source": [
        "my_arr_2d[:2, 1:]    #grabbing some subsection of our matrix"
      ],
      "execution_count": null,
      "outputs": [
        {
          "output_type": "execute_result",
          "data": {
            "text/plain": [
              "array([[10, 15],\n",
              "       [25, 30]])"
            ]
          },
          "metadata": {
            "tags": []
          },
          "execution_count": 41
        }
      ]
    },
    {
      "cell_type": "code",
      "metadata": {
        "id": "7vkFGMD-0KYn",
        "outputId": "974b9bfd-0035-4f65-92b7-3c01734c7023"
      },
      "source": [
        "# CONDITIONAL SELECTION\n",
        "my_arr = np.arange(1, 11)\n",
        "my_arr"
      ],
      "execution_count": null,
      "outputs": [
        {
          "output_type": "execute_result",
          "data": {
            "text/plain": [
              "array([ 1,  2,  3,  4,  5,  6,  7,  8,  9, 10])"
            ]
          },
          "metadata": {
            "tags": []
          },
          "execution_count": 42
        }
      ]
    },
    {
      "cell_type": "code",
      "metadata": {
        "id": "AwB9X-sa0KYo",
        "outputId": "9d8a9765-d45f-44f7-c141-2dbbe0671c70"
      },
      "source": [
        "my_arr > 4    #This returns values that are true or false depending. Numpy array of booleen values"
      ],
      "execution_count": null,
      "outputs": [
        {
          "output_type": "execute_result",
          "data": {
            "text/plain": [
              "array([False, False, False, False,  True,  True,  True,  True,  True,\n",
              "        True])"
            ]
          },
          "metadata": {
            "tags": []
          },
          "execution_count": 43
        }
      ]
    },
    {
      "cell_type": "code",
      "metadata": {
        "id": "9WHmN4Mf0KZV",
        "outputId": "acb5d274-9161-44d0-dfeb-211543ac0282"
      },
      "source": [
        "bool_my_arr = my_arr > 4     #Alternatively done this way\n",
        "bool_my_arr"
      ],
      "execution_count": null,
      "outputs": [
        {
          "output_type": "execute_result",
          "data": {
            "text/plain": [
              "array([False, False, False, False,  True,  True,  True,  True,  True,\n",
              "        True])"
            ]
          },
          "metadata": {
            "tags": []
          },
          "execution_count": 44
        }
      ]
    },
    {
      "cell_type": "code",
      "metadata": {
        "id": "wblMf96B0KZa",
        "outputId": "8cc0382c-e3ac-46b7-c3af-bba04778e627"
      },
      "source": [
        "my_arr[bool_my_arr]           #This will return the values that are > 4"
      ],
      "execution_count": null,
      "outputs": [
        {
          "output_type": "execute_result",
          "data": {
            "text/plain": [
              "array([ 5,  6,  7,  8,  9, 10])"
            ]
          },
          "metadata": {
            "tags": []
          },
          "execution_count": 46
        }
      ]
    },
    {
      "cell_type": "code",
      "metadata": {
        "id": "rAEsYh5S0KZd",
        "outputId": "78bc0622-1002-4ed5-f088-533982e397e9"
      },
      "source": [
        "my_arr[my_arr > 4]              #Alternatively done this way and better. This is our condition selection filter"
      ],
      "execution_count": null,
      "outputs": [
        {
          "output_type": "execute_result",
          "data": {
            "text/plain": [
              "array([ 5,  6,  7,  8,  9, 10])"
            ]
          },
          "metadata": {
            "tags": []
          },
          "execution_count": 47
        }
      ]
    },
    {
      "cell_type": "code",
      "metadata": {
        "id": "Y8r71uoI0KZf"
      },
      "source": [
        "\"\"\" A six sided die was rolled many times and the results of the rolls were saved to a numpy array called dice_roll.\n",
        "How many time was a roll greater than 2. In other words, how many of the integers in the dice_rolls array are greater than 2\n",
        "Assign your answer to a variable called total_rolls_over_two\n",
        "\"\"\"\n",
        "import numpy as np"
      ],
      "execution_count": null,
      "outputs": []
    },
    {
      "cell_type": "code",
      "metadata": {
        "id": "lpi6SgY60KZj"
      },
      "source": [
        "dice_rolls = np.array([3, 1, 5, 2, 5, 1, 1, 5, 1, 4, 2, 1, 4, 5, 3, 4, 5, 2, 4, 2, 6, 6, 3, 6, 2, 3, 5, 6, 5])"
      ],
      "execution_count": null,
      "outputs": []
    },
    {
      "cell_type": "code",
      "metadata": {
        "id": "qSoT5u5q0KZj"
      },
      "source": [
        "total_rolls_over_two = len(dice_rolls[dice_rolls > 2])"
      ],
      "execution_count": null,
      "outputs": []
    },
    {
      "cell_type": "code",
      "metadata": {
        "id": "sdOWKzAp0KZk",
        "outputId": "5a841acd-21a0-4de4-c1c8-ad2c5cb1f0cd"
      },
      "source": [
        "total_rolls_over_two"
      ],
      "execution_count": null,
      "outputs": [
        {
          "output_type": "execute_result",
          "data": {
            "text/plain": [
              "19"
            ]
          },
          "metadata": {
            "tags": []
          },
          "execution_count": 51
        }
      ]
    },
    {
      "cell_type": "code",
      "metadata": {
        "id": "WjWCa9RY0KZl",
        "outputId": "8b3d5dce-d463-4e5e-cf47-791b51fbe0d9"
      },
      "source": [
        "arr = np.arange(0, 10)\n",
        "arr"
      ],
      "execution_count": null,
      "outputs": [
        {
          "output_type": "execute_result",
          "data": {
            "text/plain": [
              "array([0, 1, 2, 3, 4, 5, 6, 7, 8, 9])"
            ]
          },
          "metadata": {
            "tags": []
          },
          "execution_count": 52
        }
      ]
    },
    {
      "cell_type": "code",
      "metadata": {
        "id": "OUxuRvkz0KZq",
        "outputId": "561cd2d5-6d9a-4313-ea6f-a82cba359b23"
      },
      "source": [
        "arr + 5    #Here Numpy will perform this operation on element by element basis"
      ],
      "execution_count": null,
      "outputs": [
        {
          "output_type": "execute_result",
          "data": {
            "text/plain": [
              "array([ 5,  6,  7,  8,  9, 10, 11, 12, 13, 14])"
            ]
          },
          "metadata": {
            "tags": []
          },
          "execution_count": 53
        }
      ]
    },
    {
      "cell_type": "code",
      "metadata": {
        "id": "RFaWDUk80KZv",
        "outputId": "de68a1f2-a9a6-489e-b937-61f2b4114101"
      },
      "source": [
        "arr - 2"
      ],
      "execution_count": null,
      "outputs": [
        {
          "output_type": "execute_result",
          "data": {
            "text/plain": [
              "array([-2, -1,  0,  1,  2,  3,  4,  5,  6,  7])"
            ]
          },
          "metadata": {
            "tags": []
          },
          "execution_count": 54
        }
      ]
    },
    {
      "cell_type": "code",
      "metadata": {
        "id": "mSNApyPL0KZw",
        "outputId": "b7e0f388-e569-4c8c-a505-d5383b8dcc29"
      },
      "source": [
        "arr + arr   #in other for this to work, they have to be same shape"
      ],
      "execution_count": null,
      "outputs": [
        {
          "output_type": "execute_result",
          "data": {
            "text/plain": [
              "array([ 0,  2,  4,  6,  8, 10, 12, 14, 16, 18])"
            ]
          },
          "metadata": {
            "tags": []
          },
          "execution_count": 55
        }
      ]
    },
    {
      "cell_type": "code",
      "metadata": {
        "id": "I5NLrxGz0KZ1",
        "outputId": "5c9e9552-08db-4ae8-95bc-9d0efa112b88"
      },
      "source": [
        "arr * arr     #Multiplication"
      ],
      "execution_count": null,
      "outputs": [
        {
          "output_type": "execute_result",
          "data": {
            "text/plain": [
              "array([ 0,  1,  4,  9, 16, 25, 36, 49, 64, 81])"
            ]
          },
          "metadata": {
            "tags": []
          },
          "execution_count": 56
        }
      ]
    },
    {
      "cell_type": "code",
      "metadata": {
        "id": "YpFeZteE0KZ2",
        "outputId": "7775f5de-2221-49c3-e452-9fb32b113ace"
      },
      "source": [
        "arr - arr      #Subtraction"
      ],
      "execution_count": null,
      "outputs": [
        {
          "output_type": "execute_result",
          "data": {
            "text/plain": [
              "array([0, 0, 0, 0, 0, 0, 0, 0, 0, 0])"
            ]
          },
          "metadata": {
            "tags": []
          },
          "execution_count": 57
        }
      ]
    },
    {
      "cell_type": "code",
      "metadata": {
        "id": "3T6GD51G0KZ3",
        "outputId": "2834dd1d-ea3b-4b8e-dd10-75d0be0cf920"
      },
      "source": [
        "arr / arr     #Here numpy gives a waring cos of 0 that is not divisible by 0. nan(not a number is ouputed)"
      ],
      "execution_count": null,
      "outputs": [
        {
          "output_type": "stream",
          "text": [
            "<ipython-input-58-0b6682f516d9>:1: RuntimeWarning: invalid value encountered in true_divide\n",
            "  arr / arr     #Here numpy gives a waring cos of 0 that is not divisible by 0. nan(not a number is ouputed)\n"
          ],
          "name": "stderr"
        },
        {
          "output_type": "execute_result",
          "data": {
            "text/plain": [
              "array([nan,  1.,  1.,  1.,  1.,  1.,  1.,  1.,  1.,  1.])"
            ]
          },
          "metadata": {
            "tags": []
          },
          "execution_count": 58
        }
      ]
    },
    {
      "cell_type": "code",
      "metadata": {
        "id": "u5q8Olfc0KZ8",
        "outputId": "d6dd75ac-6338-40b4-c5fc-c2c49a20bde6"
      },
      "source": [
        "1 / arr"
      ],
      "execution_count": null,
      "outputs": [
        {
          "output_type": "stream",
          "text": [
            "<ipython-input-59-e66ae8057bc3>:1: RuntimeWarning: divide by zero encountered in true_divide\n",
            "  1 / arr\n"
          ],
          "name": "stderr"
        },
        {
          "output_type": "execute_result",
          "data": {
            "text/plain": [
              "array([       inf, 1.        , 0.5       , 0.33333333, 0.25      ,\n",
              "       0.2       , 0.16666667, 0.14285714, 0.125     , 0.11111111])"
            ]
          },
          "metadata": {
            "tags": []
          },
          "execution_count": 59
        }
      ]
    },
    {
      "cell_type": "code",
      "metadata": {
        "id": "mcsIs5uL0Kan",
        "outputId": "c2972deb-afd4-4b24-9b47-ad13b6ac4ecc"
      },
      "source": [
        "np.sqrt(arr)   #Square root of the array"
      ],
      "execution_count": null,
      "outputs": [
        {
          "output_type": "execute_result",
          "data": {
            "text/plain": [
              "array([0.        , 1.        , 1.41421356, 1.73205081, 2.        ,\n",
              "       2.23606798, 2.44948974, 2.64575131, 2.82842712, 3.        ])"
            ]
          },
          "metadata": {
            "tags": []
          },
          "execution_count": 60
        }
      ]
    },
    {
      "cell_type": "code",
      "metadata": {
        "id": "xN0ZNTkt0Kao",
        "outputId": "aa96b669-94e2-4cb0-ccc0-218ded065b5d"
      },
      "source": [
        "np.sin(arr)     #taking the sine of the array"
      ],
      "execution_count": null,
      "outputs": [
        {
          "output_type": "execute_result",
          "data": {
            "text/plain": [
              "array([ 0.        ,  0.84147098,  0.90929743,  0.14112001, -0.7568025 ,\n",
              "       -0.95892427, -0.2794155 ,  0.6569866 ,  0.98935825,  0.41211849])"
            ]
          },
          "metadata": {
            "tags": []
          },
          "execution_count": 61
        }
      ]
    },
    {
      "cell_type": "code",
      "metadata": {
        "id": "mosp5XJK0Kat",
        "outputId": "3892ae59-7d9a-4b52-ac51-5a89a422c65f"
      },
      "source": [
        "np.log(arr)"
      ],
      "execution_count": null,
      "outputs": [
        {
          "output_type": "stream",
          "text": [
            "<ipython-input-62-a67b4ae04e95>:1: RuntimeWarning: divide by zero encountered in log\n",
            "  np.log(arr)\n"
          ],
          "name": "stderr"
        },
        {
          "output_type": "execute_result",
          "data": {
            "text/plain": [
              "array([      -inf, 0.        , 0.69314718, 1.09861229, 1.38629436,\n",
              "       1.60943791, 1.79175947, 1.94591015, 2.07944154, 2.19722458])"
            ]
          },
          "metadata": {
            "tags": []
          },
          "execution_count": 62
        }
      ]
    },
    {
      "cell_type": "code",
      "metadata": {
        "id": "Jk-yuMIF0Kau",
        "outputId": "f7963b13-5b84-41d7-de85-46e179c99a38"
      },
      "source": [
        "arr"
      ],
      "execution_count": null,
      "outputs": [
        {
          "output_type": "execute_result",
          "data": {
            "text/plain": [
              "array([0, 1, 2, 3, 4, 5, 6, 7, 8, 9])"
            ]
          },
          "metadata": {
            "tags": []
          },
          "execution_count": 63
        }
      ]
    },
    {
      "cell_type": "code",
      "metadata": {
        "id": "_UFsrgoG0Kaz",
        "outputId": "820b88e5-d23e-4a31-8900-8ed445ab7f7b"
      },
      "source": [
        "arr.sum()"
      ],
      "execution_count": null,
      "outputs": [
        {
          "output_type": "execute_result",
          "data": {
            "text/plain": [
              "45"
            ]
          },
          "metadata": {
            "tags": []
          },
          "execution_count": 64
        }
      ]
    },
    {
      "cell_type": "code",
      "metadata": {
        "id": "v4MLu1w60Ka2",
        "outputId": "7383412c-85fc-438b-dc72-f6a7834bd667"
      },
      "source": [
        "arr.mean()"
      ],
      "execution_count": null,
      "outputs": [
        {
          "output_type": "execute_result",
          "data": {
            "text/plain": [
              "4.5"
            ]
          },
          "metadata": {
            "tags": []
          },
          "execution_count": 65
        }
      ]
    },
    {
      "cell_type": "code",
      "metadata": {
        "id": "aTjpfj2k0Ka3",
        "outputId": "c8c7a4d6-a529-4814-aff5-0fa4b047e544"
      },
      "source": [
        "arr.max()"
      ],
      "execution_count": null,
      "outputs": [
        {
          "output_type": "execute_result",
          "data": {
            "text/plain": [
              "9"
            ]
          },
          "metadata": {
            "tags": []
          },
          "execution_count": 66
        }
      ]
    },
    {
      "cell_type": "code",
      "metadata": {
        "id": "RjEUxGlo0Ka7",
        "outputId": "5008a825-57c1-446b-b8d0-eef3d76053ed"
      },
      "source": [
        "arr.var()     #variance"
      ],
      "execution_count": null,
      "outputs": [
        {
          "output_type": "execute_result",
          "data": {
            "text/plain": [
              "8.25"
            ]
          },
          "metadata": {
            "tags": []
          },
          "execution_count": 67
        }
      ]
    },
    {
      "cell_type": "code",
      "metadata": {
        "id": "Fv3VIkx-0Ka_",
        "outputId": "439cdf10-d09f-447b-e389-a90fb3f7447b"
      },
      "source": [
        "arr.std()     #standard deviation"
      ],
      "execution_count": null,
      "outputs": [
        {
          "output_type": "execute_result",
          "data": {
            "text/plain": [
              "2.8722813232690143"
            ]
          },
          "metadata": {
            "tags": []
          },
          "execution_count": 68
        }
      ]
    },
    {
      "cell_type": "code",
      "metadata": {
        "id": "-AfE_xHJ0KbC",
        "outputId": "8ae99742-15cc-4b06-d821-7c04d2506bfe"
      },
      "source": [
        "#Lets create a two d array\n",
        "np.arange(0, 25)"
      ],
      "execution_count": null,
      "outputs": [
        {
          "output_type": "execute_result",
          "data": {
            "text/plain": [
              "array([ 0,  1,  2,  3,  4,  5,  6,  7,  8,  9, 10, 11, 12, 13, 14, 15, 16,\n",
              "       17, 18, 19, 20, 21, 22, 23, 24])"
            ]
          },
          "metadata": {
            "tags": []
          },
          "execution_count": 69
        }
      ]
    },
    {
      "cell_type": "code",
      "metadata": {
        "id": "6lpdNUVD0KbD",
        "outputId": "69b4ee2d-4365-4784-8758-2cf3fb619b53"
      },
      "source": [
        "np.arange(0, 25).reshape(5, 5)"
      ],
      "execution_count": null,
      "outputs": [
        {
          "output_type": "execute_result",
          "data": {
            "text/plain": [
              "array([[ 0,  1,  2,  3,  4],\n",
              "       [ 5,  6,  7,  8,  9],\n",
              "       [10, 11, 12, 13, 14],\n",
              "       [15, 16, 17, 18, 19],\n",
              "       [20, 21, 22, 23, 24]])"
            ]
          },
          "metadata": {
            "tags": []
          },
          "execution_count": 71
        }
      ]
    },
    {
      "cell_type": "code",
      "metadata": {
        "id": "qgRaM9z90KbE"
      },
      "source": [
        "arr2d = np.arange(0, 25).reshape(5, 5)"
      ],
      "execution_count": null,
      "outputs": []
    },
    {
      "cell_type": "code",
      "metadata": {
        "id": "51wd2kTR0KbG",
        "outputId": "33a0c698-12d7-4f34-d8a0-0490aeee5503"
      },
      "source": [
        "arr2d.shape"
      ],
      "execution_count": null,
      "outputs": [
        {
          "output_type": "execute_result",
          "data": {
            "text/plain": [
              "(5, 5)"
            ]
          },
          "metadata": {
            "tags": []
          },
          "execution_count": 73
        }
      ]
    },
    {
      "cell_type": "code",
      "metadata": {
        "id": "d1UZGs-Y0KbI",
        "outputId": "125f9347-5685-4c4d-f5e7-e629b181ef61"
      },
      "source": [
        "arr2d"
      ],
      "execution_count": null,
      "outputs": [
        {
          "output_type": "execute_result",
          "data": {
            "text/plain": [
              "array([[ 0,  1,  2,  3,  4],\n",
              "       [ 5,  6,  7,  8,  9],\n",
              "       [10, 11, 12, 13, 14],\n",
              "       [15, 16, 17, 18, 19],\n",
              "       [20, 21, 22, 23, 24]])"
            ]
          },
          "metadata": {
            "tags": []
          },
          "execution_count": 74
        }
      ]
    },
    {
      "cell_type": "code",
      "metadata": {
        "id": "mMzZOlx40KbK",
        "outputId": "1638ff83-de2d-4e14-ebcc-96da53e36569"
      },
      "source": [
        "arr2d.sum()"
      ],
      "execution_count": null,
      "outputs": [
        {
          "output_type": "execute_result",
          "data": {
            "text/plain": [
              "300"
            ]
          },
          "metadata": {
            "tags": []
          },
          "execution_count": 75
        }
      ]
    },
    {
      "cell_type": "code",
      "metadata": {
        "id": "F7-gIg4W0Kb1",
        "outputId": "35cb1fa6-7ec1-4ca9-96fc-14f72bd91d82"
      },
      "source": [
        "arr2d.sum(axis = 0)  #Here we sum up each column, e.g 0+5+10+15+20=50 etc So axis = 0 means perform the operation across\n",
        "                      #the rows"
      ],
      "execution_count": null,
      "outputs": [
        {
          "output_type": "execute_result",
          "data": {
            "text/plain": [
              "array([50, 55, 60, 65, 70])"
            ]
          },
          "metadata": {
            "tags": []
          },
          "execution_count": 76
        }
      ]
    },
    {
      "cell_type": "code",
      "metadata": {
        "id": "yCmYzydS0Kb2",
        "outputId": "f223b31a-2f5c-4905-8302-9616e621b9fe"
      },
      "source": [
        "arr2d.sum(axis = 1)   #Here we sum up each row, e.g 0+1+2+3+4=10 etc So axis = 1 means perform the operation across\n",
        "                      #the index 1 of shape which is the column"
      ],
      "execution_count": null,
      "outputs": [
        {
          "output_type": "execute_result",
          "data": {
            "text/plain": [
              "array([ 10,  35,  60,  85, 110])"
            ]
          },
          "metadata": {
            "tags": []
          },
          "execution_count": 77
        }
      ]
    },
    {
      "cell_type": "code",
      "metadata": {
        "id": "lji_hEOb0Kb3"
      },
      "source": [
        "\"\"\" A bank account has had withdrawals and deposits tracked in a numpy array called account_transactions. Based on this list\n",
        "of account transactions, what is the total remaining in the account? Assign your answer to a variable called account_total\n",
        "\"\"\"\n",
        "import numpy as np\n",
        "account_transactions = np.array([100,-200,300,-400,100,100,-230,450,500,2000])"
      ],
      "execution_count": null,
      "outputs": []
    },
    {
      "cell_type": "code",
      "metadata": {
        "id": "JE-8CCTp0Kb4"
      },
      "source": [
        "account_total = account_transactions.sum()"
      ],
      "execution_count": null,
      "outputs": []
    },
    {
      "cell_type": "code",
      "metadata": {
        "id": "YfeKGys_0Kb8",
        "outputId": "346b6972-8328-4bcd-8ec8-2bdfaee36023"
      },
      "source": [
        "account_total"
      ],
      "execution_count": null,
      "outputs": [
        {
          "output_type": "execute_result",
          "data": {
            "text/plain": [
              "2720"
            ]
          },
          "metadata": {
            "tags": []
          },
          "execution_count": 80
        }
      ]
    },
    {
      "cell_type": "markdown",
      "metadata": {
        "id": "Qzjb9vHW0Kb9"
      },
      "source": [
        "## Numpy exercise"
      ]
    },
    {
      "cell_type": "code",
      "metadata": {
        "id": "pTAFqI5V0KcD"
      },
      "source": [
        "import numpy as np"
      ],
      "execution_count": null,
      "outputs": []
    },
    {
      "cell_type": "code",
      "metadata": {
        "id": "QVDBzuJU0KcE",
        "outputId": "e8d889c7-e19e-4ddf-952a-e29f5bf0c1a6"
      },
      "source": [
        "np.zeros(10)   #Created an array of 10 zeros"
      ],
      "execution_count": null,
      "outputs": [
        {
          "output_type": "execute_result",
          "data": {
            "text/plain": [
              "array([0., 0., 0., 0., 0., 0., 0., 0., 0., 0.])"
            ]
          },
          "metadata": {
            "tags": []
          },
          "execution_count": 82
        }
      ]
    },
    {
      "cell_type": "code",
      "metadata": {
        "id": "9-gpToLp0KcJ",
        "outputId": "a9374792-963b-46ca-fc92-4e328c70c943"
      },
      "source": [
        "np.ones(10)     #Created an array of 10 ones"
      ],
      "execution_count": null,
      "outputs": [
        {
          "output_type": "execute_result",
          "data": {
            "text/plain": [
              "array([1., 1., 1., 1., 1., 1., 1., 1., 1., 1.])"
            ]
          },
          "metadata": {
            "tags": []
          },
          "execution_count": 83
        }
      ]
    },
    {
      "cell_type": "code",
      "metadata": {
        "id": "H4hCvIzI0KcL",
        "outputId": "585b5133-c8ce-4180-948d-3fe696a93ada"
      },
      "source": [
        "np.ones(10) * 5   #Created an array of ten 5s"
      ],
      "execution_count": null,
      "outputs": [
        {
          "output_type": "execute_result",
          "data": {
            "text/plain": [
              "array([5., 5., 5., 5., 5., 5., 5., 5., 5., 5.])"
            ]
          },
          "metadata": {
            "tags": []
          },
          "execution_count": 84
        }
      ]
    },
    {
      "cell_type": "code",
      "metadata": {
        "id": "046ccayv0KcM",
        "outputId": "aaa88e89-79c7-461e-b20b-62c3d222661f"
      },
      "source": [
        "np.arange(10, 51)  #Created an array of 10 to 50"
      ],
      "execution_count": null,
      "outputs": [
        {
          "output_type": "execute_result",
          "data": {
            "text/plain": [
              "array([10, 11, 12, 13, 14, 15, 16, 17, 18, 19, 20, 21, 22, 23, 24, 25, 26,\n",
              "       27, 28, 29, 30, 31, 32, 33, 34, 35, 36, 37, 38, 39, 40, 41, 42, 43,\n",
              "       44, 45, 46, 47, 48, 49, 50])"
            ]
          },
          "metadata": {
            "tags": []
          },
          "execution_count": 85
        }
      ]
    },
    {
      "cell_type": "code",
      "metadata": {
        "id": "h7IHzgWT0KcS",
        "outputId": "89f8b8b2-620e-452c-98ab-38ffa110b98d"
      },
      "source": [
        "np.arange(10, 51, 2)   #An array of even numbers from 10 to 50"
      ],
      "execution_count": null,
      "outputs": [
        {
          "output_type": "execute_result",
          "data": {
            "text/plain": [
              "array([10, 12, 14, 16, 18, 20, 22, 24, 26, 28, 30, 32, 34, 36, 38, 40, 42,\n",
              "       44, 46, 48, 50])"
            ]
          },
          "metadata": {
            "tags": []
          },
          "execution_count": 86
        }
      ]
    },
    {
      "cell_type": "code",
      "metadata": {
        "id": "i3oeOPfJ0KcV",
        "outputId": "8bdfac6d-ee17-4ef7-db4a-a454c3171a8a"
      },
      "source": [
        "np.arange(9)    #A 3x3 matrix with values ranging from 0 to 8"
      ],
      "execution_count": null,
      "outputs": [
        {
          "output_type": "execute_result",
          "data": {
            "text/plain": [
              "array([0, 1, 2, 3, 4, 5, 6, 7, 8])"
            ]
          },
          "metadata": {
            "tags": []
          },
          "execution_count": 87
        }
      ]
    },
    {
      "cell_type": "code",
      "metadata": {
        "id": "Ovi4o81q0KcX",
        "outputId": "81c356f2-2c0d-4f7b-d961-5f9521cd33ab"
      },
      "source": [
        "np.arange(9).reshape(3, 3)"
      ],
      "execution_count": null,
      "outputs": [
        {
          "output_type": "execute_result",
          "data": {
            "text/plain": [
              "array([[0, 1, 2],\n",
              "       [3, 4, 5],\n",
              "       [6, 7, 8]])"
            ]
          },
          "metadata": {
            "tags": []
          },
          "execution_count": 89
        }
      ]
    },
    {
      "cell_type": "code",
      "metadata": {
        "id": "aJ0YBpnb0KcZ",
        "outputId": "ed02a78f-6aef-49e0-e3f6-bb7de5ec4f9c"
      },
      "source": [
        "arr = np.arange(9)\n",
        "arr.reshape (3, 3)                  #We are doing the 3x3 matrix but now stacking them"
      ],
      "execution_count": null,
      "outputs": [
        {
          "output_type": "execute_result",
          "data": {
            "text/plain": [
              "array([[0, 1, 2],\n",
              "       [3, 4, 5],\n",
              "       [6, 7, 8]])"
            ]
          },
          "metadata": {
            "tags": []
          },
          "execution_count": 90
        }
      ]
    },
    {
      "cell_type": "code",
      "metadata": {
        "id": "_iN1AxCb0Kca",
        "outputId": "62741515-69bb-4b37-d037-f0ca812cd558"
      },
      "source": [
        "np.eye(3)        # 3x3 identity matrix"
      ],
      "execution_count": null,
      "outputs": [
        {
          "output_type": "execute_result",
          "data": {
            "text/plain": [
              "array([[1., 0., 0.],\n",
              "       [0., 1., 0.],\n",
              "       [0., 0., 1.]])"
            ]
          },
          "metadata": {
            "tags": []
          },
          "execution_count": 91
        }
      ]
    },
    {
      "cell_type": "code",
      "metadata": {
        "id": "4-FfZP3d0Kcb",
        "outputId": "8fac069b-75ac-4bad-f4f1-669a0780debb"
      },
      "source": [
        "np.random.rand(1)                           #Generating a random number between 0 and 1"
      ],
      "execution_count": null,
      "outputs": [
        {
          "output_type": "execute_result",
          "data": {
            "text/plain": [
              "array([0.38118005])"
            ]
          },
          "metadata": {
            "tags": []
          },
          "execution_count": 92
        }
      ]
    },
    {
      "cell_type": "code",
      "metadata": {
        "id": "MTN-kTtm0Kce",
        "outputId": "939fad61-e7a0-4dc3-aaee-5755076ca14c"
      },
      "source": [
        "np.random.randn(25)               #Generating an array of 25 random numbers sampled from a standard normal distribution"
      ],
      "execution_count": null,
      "outputs": [
        {
          "output_type": "execute_result",
          "data": {
            "text/plain": [
              "array([-0.00468197, -0.12938831,  0.30596699,  1.25871004, -1.47170143,\n",
              "        1.50920291, -0.62528571,  0.49268505,  0.64897941,  1.24759568,\n",
              "        0.31321937,  0.63769478, -0.11967223, -0.53072808, -0.23642473,\n",
              "       -0.408794  ,  0.47069849,  0.5518691 ,  0.38740876,  1.17255168,\n",
              "       -2.15351101,  1.15357011,  1.43652978,  0.69207894,  0.16506005])"
            ]
          },
          "metadata": {
            "tags": []
          },
          "execution_count": 93
        }
      ]
    },
    {
      "cell_type": "code",
      "metadata": {
        "id": "DSXmfXSl0Kcf",
        "outputId": "061de508-ab3a-4d68-b0bc-2cbe14eac9ac"
      },
      "source": [
        " np.arange(1, 101)                                    # create an array that steps with 0.1"
      ],
      "execution_count": null,
      "outputs": [
        {
          "output_type": "execute_result",
          "data": {
            "text/plain": [
              "array([  1,   2,   3,   4,   5,   6,   7,   8,   9,  10,  11,  12,  13,\n",
              "        14,  15,  16,  17,  18,  19,  20,  21,  22,  23,  24,  25,  26,\n",
              "        27,  28,  29,  30,  31,  32,  33,  34,  35,  36,  37,  38,  39,\n",
              "        40,  41,  42,  43,  44,  45,  46,  47,  48,  49,  50,  51,  52,\n",
              "        53,  54,  55,  56,  57,  58,  59,  60,  61,  62,  63,  64,  65,\n",
              "        66,  67,  68,  69,  70,  71,  72,  73,  74,  75,  76,  77,  78,\n",
              "        79,  80,  81,  82,  83,  84,  85,  86,  87,  88,  89,  90,  91,\n",
              "        92,  93,  94,  95,  96,  97,  98,  99, 100])"
            ]
          },
          "metadata": {
            "tags": []
          },
          "execution_count": 94
        }
      ]
    },
    {
      "cell_type": "code",
      "metadata": {
        "id": "sACbGnzF0Kcg",
        "outputId": "31094fb4-7cec-41a9-82af-4eef0022117f"
      },
      "source": [
        "np.arange(1, 101)/100   #notice this is one d array"
      ],
      "execution_count": null,
      "outputs": [
        {
          "output_type": "execute_result",
          "data": {
            "text/plain": [
              "array([0.01, 0.02, 0.03, 0.04, 0.05, 0.06, 0.07, 0.08, 0.09, 0.1 , 0.11,\n",
              "       0.12, 0.13, 0.14, 0.15, 0.16, 0.17, 0.18, 0.19, 0.2 , 0.21, 0.22,\n",
              "       0.23, 0.24, 0.25, 0.26, 0.27, 0.28, 0.29, 0.3 , 0.31, 0.32, 0.33,\n",
              "       0.34, 0.35, 0.36, 0.37, 0.38, 0.39, 0.4 , 0.41, 0.42, 0.43, 0.44,\n",
              "       0.45, 0.46, 0.47, 0.48, 0.49, 0.5 , 0.51, 0.52, 0.53, 0.54, 0.55,\n",
              "       0.56, 0.57, 0.58, 0.59, 0.6 , 0.61, 0.62, 0.63, 0.64, 0.65, 0.66,\n",
              "       0.67, 0.68, 0.69, 0.7 , 0.71, 0.72, 0.73, 0.74, 0.75, 0.76, 0.77,\n",
              "       0.78, 0.79, 0.8 , 0.81, 0.82, 0.83, 0.84, 0.85, 0.86, 0.87, 0.88,\n",
              "       0.89, 0.9 , 0.91, 0.92, 0.93, 0.94, 0.95, 0.96, 0.97, 0.98, 0.99,\n",
              "       1.  ])"
            ]
          },
          "metadata": {
            "tags": []
          },
          "execution_count": 95
        }
      ]
    },
    {
      "cell_type": "code",
      "metadata": {
        "id": "a8r93d800KdN",
        "outputId": "3d5e02e9-fb5e-4b9f-a25e-1612dcd5ca2f"
      },
      "source": [
        "arr = np.arange(1, 101)/100     #we just reshape it\n",
        "arr.reshape(10, 10)"
      ],
      "execution_count": null,
      "outputs": [
        {
          "output_type": "execute_result",
          "data": {
            "text/plain": [
              "array([[0.01, 0.02, 0.03, 0.04, 0.05, 0.06, 0.07, 0.08, 0.09, 0.1 ],\n",
              "       [0.11, 0.12, 0.13, 0.14, 0.15, 0.16, 0.17, 0.18, 0.19, 0.2 ],\n",
              "       [0.21, 0.22, 0.23, 0.24, 0.25, 0.26, 0.27, 0.28, 0.29, 0.3 ],\n",
              "       [0.31, 0.32, 0.33, 0.34, 0.35, 0.36, 0.37, 0.38, 0.39, 0.4 ],\n",
              "       [0.41, 0.42, 0.43, 0.44, 0.45, 0.46, 0.47, 0.48, 0.49, 0.5 ],\n",
              "       [0.51, 0.52, 0.53, 0.54, 0.55, 0.56, 0.57, 0.58, 0.59, 0.6 ],\n",
              "       [0.61, 0.62, 0.63, 0.64, 0.65, 0.66, 0.67, 0.68, 0.69, 0.7 ],\n",
              "       [0.71, 0.72, 0.73, 0.74, 0.75, 0.76, 0.77, 0.78, 0.79, 0.8 ],\n",
              "       [0.81, 0.82, 0.83, 0.84, 0.85, 0.86, 0.87, 0.88, 0.89, 0.9 ],\n",
              "       [0.91, 0.92, 0.93, 0.94, 0.95, 0.96, 0.97, 0.98, 0.99, 1.  ]])"
            ]
          },
          "metadata": {
            "tags": []
          },
          "execution_count": 96
        }
      ]
    },
    {
      "cell_type": "code",
      "metadata": {
        "id": "qzo4p1TI0KdP",
        "outputId": "5044406a-c1ac-4d27-9d60-038f2e1f7902"
      },
      "source": [
        "np.linspace(0, 1, 20)                                #An array of linearly spaced points between 0 ans 1"
      ],
      "execution_count": null,
      "outputs": [
        {
          "output_type": "execute_result",
          "data": {
            "text/plain": [
              "array([0.        , 0.05263158, 0.10526316, 0.15789474, 0.21052632,\n",
              "       0.26315789, 0.31578947, 0.36842105, 0.42105263, 0.47368421,\n",
              "       0.52631579, 0.57894737, 0.63157895, 0.68421053, 0.73684211,\n",
              "       0.78947368, 0.84210526, 0.89473684, 0.94736842, 1.        ])"
            ]
          },
          "metadata": {
            "tags": []
          },
          "execution_count": 97
        }
      ]
    },
    {
      "cell_type": "code",
      "metadata": {
        "id": "v6w18Diw0KdQ",
        "outputId": "5481524d-9f19-4454-8bf1-a363fda8e69d"
      },
      "source": [
        "mat = np.arange(1, 26).reshape(5,5)\n",
        "mat"
      ],
      "execution_count": null,
      "outputs": [
        {
          "output_type": "execute_result",
          "data": {
            "text/plain": [
              "array([[ 1,  2,  3,  4,  5],\n",
              "       [ 6,  7,  8,  9, 10],\n",
              "       [11, 12, 13, 14, 15],\n",
              "       [16, 17, 18, 19, 20],\n",
              "       [21, 22, 23, 24, 25]])"
            ]
          },
          "metadata": {
            "tags": []
          },
          "execution_count": 98
        }
      ]
    },
    {
      "cell_type": "code",
      "metadata": {
        "id": "h03rSZ1X0Kdt",
        "outputId": "c8f6da32-2427-4bef-f7df-7955573b1287"
      },
      "source": [
        "mat[2:]                        # Here we want to grab row 2 downward"
      ],
      "execution_count": null,
      "outputs": [
        {
          "output_type": "execute_result",
          "data": {
            "text/plain": [
              "array([[11, 12, 13, 14, 15],\n",
              "       [16, 17, 18, 19, 20],\n",
              "       [21, 22, 23, 24, 25]])"
            ]
          },
          "metadata": {
            "tags": []
          },
          "execution_count": 99
        }
      ]
    },
    {
      "cell_type": "code",
      "metadata": {
        "id": "6kx55ON10Kdu",
        "outputId": "248052bb-9155-4691-eadf-acef97691392"
      },
      "source": [
        " mat[2:, 1:]                              # Here we want to grab row 2 and col 1 downward"
      ],
      "execution_count": null,
      "outputs": [
        {
          "output_type": "execute_result",
          "data": {
            "text/plain": [
              "array([[12, 13, 14, 15],\n",
              "       [17, 18, 19, 20],\n",
              "       [22, 23, 24, 25]])"
            ]
          },
          "metadata": {
            "tags": []
          },
          "execution_count": 103
        }
      ]
    },
    {
      "cell_type": "code",
      "metadata": {
        "id": "tP0RDkfi0Kdv",
        "outputId": "42be0ae0-1847-4953-9ef9-13e5010875ac"
      },
      "source": [
        "mat[3, 4]                      # index location of 20"
      ],
      "execution_count": null,
      "outputs": [
        {
          "output_type": "execute_result",
          "data": {
            "text/plain": [
              "20"
            ]
          },
          "metadata": {
            "tags": []
          },
          "execution_count": 105
        }
      ]
    },
    {
      "cell_type": "code",
      "metadata": {
        "id": "eflc5AcJ0Kd1",
        "outputId": "da9eba80-3f0b-4d55-f6d9-a90ca3a0eb52"
      },
      "source": [
        "mat[:3, 1:2]              #write code that produce 2, 7, 12. We use slicing not 1 but not including 2 to maintain the form"
      ],
      "execution_count": null,
      "outputs": [
        {
          "output_type": "execute_result",
          "data": {
            "text/plain": [
              "array([[ 2],\n",
              "       [ 7],\n",
              "       [12]])"
            ]
          },
          "metadata": {
            "tags": []
          },
          "execution_count": 107
        }
      ]
    },
    {
      "cell_type": "code",
      "metadata": {
        "id": "tRpOaQWC0Kd5",
        "outputId": "9c1d8ce7-d37e-410f-869f-a2150257e83d"
      },
      "source": [
        "mat[:3, 1]"
      ],
      "execution_count": null,
      "outputs": [
        {
          "output_type": "execute_result",
          "data": {
            "text/plain": [
              "array([ 2,  7, 12])"
            ]
          },
          "metadata": {
            "tags": []
          },
          "execution_count": 108
        }
      ]
    },
    {
      "cell_type": "code",
      "metadata": {
        "id": "e-V7Z26T0Kd6",
        "outputId": "b4bcc583-c5ba-4607-9411-16869c82405a"
      },
      "source": [
        "mat[4,:]   #The last row"
      ],
      "execution_count": null,
      "outputs": [
        {
          "output_type": "execute_result",
          "data": {
            "text/plain": [
              "array([21, 22, 23, 24, 25])"
            ]
          },
          "metadata": {
            "tags": []
          },
          "execution_count": 109
        }
      ]
    },
    {
      "cell_type": "code",
      "metadata": {
        "id": "8FU0FaVJ0Kd7",
        "outputId": "df761968-4aa5-44e1-ffd6-106e867c988c"
      },
      "source": [
        "#Alternatively written as\n",
        "mat[4]"
      ],
      "execution_count": null,
      "outputs": [
        {
          "output_type": "execute_result",
          "data": {
            "text/plain": [
              "array([21, 22, 23, 24, 25])"
            ]
          },
          "metadata": {
            "tags": []
          },
          "execution_count": 110
        }
      ]
    },
    {
      "cell_type": "code",
      "metadata": {
        "id": "Ug3mbFKr0Kd_",
        "outputId": "fba9e91a-b2b0-4842-c3cc-47c3858ad362"
      },
      "source": [
        "mat"
      ],
      "execution_count": null,
      "outputs": [
        {
          "output_type": "execute_result",
          "data": {
            "text/plain": [
              "array([[ 1,  2,  3,  4,  5],\n",
              "       [ 6,  7,  8,  9, 10],\n",
              "       [11, 12, 13, 14, 15],\n",
              "       [16, 17, 18, 19, 20],\n",
              "       [21, 22, 23, 24, 25]])"
            ]
          },
          "metadata": {
            "tags": []
          },
          "execution_count": 111
        }
      ]
    },
    {
      "cell_type": "code",
      "metadata": {
        "id": "KCeKLZzD0KeB",
        "outputId": "a60d9170-a86c-46e5-9113-60f45a122383"
      },
      "source": [
        "mat[3:5]"
      ],
      "execution_count": null,
      "outputs": [
        {
          "output_type": "execute_result",
          "data": {
            "text/plain": [
              "array([[16, 17, 18, 19, 20],\n",
              "       [21, 22, 23, 24, 25]])"
            ]
          },
          "metadata": {
            "tags": []
          },
          "execution_count": 112
        }
      ]
    },
    {
      "cell_type": "code",
      "metadata": {
        "id": "wkIwGVw60KeC",
        "outputId": "54661745-4351-4520-cc24-1650af417745"
      },
      "source": [
        "mat.sum()"
      ],
      "execution_count": null,
      "outputs": [
        {
          "output_type": "execute_result",
          "data": {
            "text/plain": [
              "325"
            ]
          },
          "metadata": {
            "tags": []
          },
          "execution_count": 113
        }
      ]
    },
    {
      "cell_type": "code",
      "metadata": {
        "id": "VqW1oMQG0KeN",
        "outputId": "955ab7ef-e8a0-4939-c89d-ae18d9f8a932"
      },
      "source": [
        "mat.std()"
      ],
      "execution_count": null,
      "outputs": [
        {
          "output_type": "execute_result",
          "data": {
            "text/plain": [
              "7.211102550927978"
            ]
          },
          "metadata": {
            "tags": []
          },
          "execution_count": 114
        }
      ]
    },
    {
      "cell_type": "code",
      "metadata": {
        "id": "VqmCZUFd0KeO",
        "outputId": "92eb3785-5457-4601-a5cc-cea1a8ad7d2f"
      },
      "source": [
        "#to get the sum of all the column\n",
        "mat.sum(axis = 0)"
      ],
      "execution_count": null,
      "outputs": [
        {
          "output_type": "execute_result",
          "data": {
            "text/plain": [
              "array([55, 60, 65, 70, 75])"
            ]
          },
          "metadata": {
            "tags": []
          },
          "execution_count": 115
        }
      ]
    },
    {
      "cell_type": "code",
      "metadata": {
        "id": "dsje1Luj0Kez",
        "outputId": "348c3101-d801-4d9d-a3a2-cab6162355c5"
      },
      "source": [
        "np.random.seed(101)\n",
        "np.random.rand(2)                           #Making sure we always get the same random number"
      ],
      "execution_count": null,
      "outputs": [
        {
          "output_type": "execute_result",
          "data": {
            "text/plain": [
              "array([0.51639863, 0.57066759])"
            ]
          },
          "metadata": {
            "tags": []
          },
          "execution_count": 118
        }
      ]
    },
    {
      "cell_type": "markdown",
      "metadata": {
        "id": "5DXBsQaW0Ke7"
      },
      "source": [
        "## Indexing and Slicing "
      ]
    },
    {
      "cell_type": "code",
      "metadata": {
        "id": "rnbBjXhb0Ke8"
      },
      "source": [
        "import numpy as np"
      ],
      "execution_count": null,
      "outputs": []
    },
    {
      "cell_type": "code",
      "metadata": {
        "id": "-BKEw74y0Ke9"
      },
      "source": [
        "arr = np.array([[[1, 2, 3], [4, 5, 6], [7, 8, 9], [0, 11, 12]]]) #This is a three d array looking at the square bracket"
      ],
      "execution_count": null,
      "outputs": []
    },
    {
      "cell_type": "code",
      "metadata": {
        "id": "f4OETzN-0Ke-",
        "outputId": "3dff3152-2a43-48cd-86a7-3841cebacd75"
      },
      "source": [
        "arr"
      ],
      "execution_count": null,
      "outputs": [
        {
          "output_type": "execute_result",
          "data": {
            "text/plain": [
              "array([[[ 1,  2,  3],\n",
              "        [ 4,  5,  6],\n",
              "        [ 7,  8,  9],\n",
              "        [ 0, 11, 12]]])"
            ]
          },
          "metadata": {
            "tags": []
          },
          "execution_count": 26
        }
      ]
    },
    {
      "cell_type": "code",
      "metadata": {
        "id": "SmT9rcSI0KfD",
        "outputId": "facfe852-6695-4498-9c5b-c18dbbac04ea"
      },
      "source": [
        "arr.shape"
      ],
      "execution_count": null,
      "outputs": [
        {
          "output_type": "execute_result",
          "data": {
            "text/plain": [
              "(1, 4, 3)"
            ]
          },
          "metadata": {
            "tags": []
          },
          "execution_count": 28
        }
      ]
    },
    {
      "cell_type": "code",
      "metadata": {
        "id": "JiQIgz4J0KfF",
        "outputId": "2ce7483c-801a-4ce3-a308-0e1c7a17bb8c"
      },
      "source": [
        "arr[0, 2, 1] #Here we called the 2nd array(7,8,9) and the index 1 that array"
      ],
      "execution_count": null,
      "outputs": [
        {
          "output_type": "execute_result",
          "data": {
            "text/plain": [
              "8"
            ]
          },
          "metadata": {
            "tags": []
          },
          "execution_count": 31
        }
      ]
    },
    {
      "cell_type": "code",
      "metadata": {
        "id": "cHda1Vr90KfJ",
        "outputId": "e2d57f9a-fd95-4d44-b392-2725720de233"
      },
      "source": [
        "#Slicing has :\n",
        "arr = np.array([1, 2, 3, 4, 5])\n",
        "arr[1:3]"
      ],
      "execution_count": null,
      "outputs": [
        {
          "output_type": "execute_result",
          "data": {
            "text/plain": [
              "array([2, 3])"
            ]
          },
          "metadata": {
            "tags": []
          },
          "execution_count": 32
        }
      ]
    },
    {
      "cell_type": "code",
      "metadata": {
        "id": "_odXGXxI0KfP",
        "outputId": "d58a4f4d-7c6f-4e85-a1ec-60cd2708df67"
      },
      "source": [
        "arr = np.array([1, 2, 3, 4, 5, 6, 7])\n",
        "arr[4:]"
      ],
      "execution_count": null,
      "outputs": [
        {
          "output_type": "execute_result",
          "data": {
            "text/plain": [
              "array([5, 6, 7])"
            ]
          },
          "metadata": {
            "tags": []
          },
          "execution_count": 39
        }
      ]
    },
    {
      "cell_type": "code",
      "metadata": {
        "id": "EnD8HUnD0KfR",
        "outputId": "e1435efd-f752-4bbc-dde0-3ac972cfa395"
      },
      "source": [
        "arr[:4]"
      ],
      "execution_count": null,
      "outputs": [
        {
          "output_type": "execute_result",
          "data": {
            "text/plain": [
              "array([1, 2, 3, 4])"
            ]
          },
          "metadata": {
            "tags": []
          },
          "execution_count": 41
        }
      ]
    },
    {
      "cell_type": "code",
      "metadata": {
        "id": "EPcRjeWK0KfS",
        "outputId": "7c587f98-bd44-4d05-bf5b-78484b5c8726"
      },
      "source": [
        "arr[::2]"
      ],
      "execution_count": null,
      "outputs": [
        {
          "output_type": "execute_result",
          "data": {
            "text/plain": [
              "array([1, 3, 5, 7])"
            ]
          },
          "metadata": {
            "tags": []
          },
          "execution_count": 43
        }
      ]
    },
    {
      "cell_type": "code",
      "metadata": {
        "id": "8fMnyOJu0KfV",
        "outputId": "f6c4448f-0699-4a70-9dc4-586e3c9b956c"
      },
      "source": [
        "arr = np.array([[1, 2, 3, 4, 5], [6, 7, 8, 9, 0]])\n",
        "arr[:, 4]"
      ],
      "execution_count": null,
      "outputs": [
        {
          "output_type": "execute_result",
          "data": {
            "text/plain": [
              "array([5, 0])"
            ]
          },
          "metadata": {
            "tags": []
          },
          "execution_count": 34
        }
      ]
    },
    {
      "cell_type": "code",
      "metadata": {
        "id": "f9WIg1IM0KfX",
        "outputId": "be51d114-191b-4fcd-ac82-04521bc44b7c"
      },
      "source": [
        "arr[0, :] #Whenever we see \":\", it is all element involved. Here we chose the 1st index"
      ],
      "execution_count": null,
      "outputs": [
        {
          "output_type": "execute_result",
          "data": {
            "text/plain": [
              "array([1, 2, 3, 4, 5])"
            ]
          },
          "metadata": {
            "tags": []
          },
          "execution_count": 35
        }
      ]
    },
    {
      "cell_type": "code",
      "metadata": {
        "id": "JzOtmo9l0KfY",
        "outputId": "94774526-d2df-4e8c-9359-eaa259918917"
      },
      "source": [
        "arr = np.array([[1, 2, 3, 4, 5, 6, 7, 8],[0, 11, 12, 13, 14, 15, 16, 17]])\n",
        "arr[0, 1:6:2] #picked the 1st array, sliced from 1 to 6 and stepped by 2"
      ],
      "execution_count": null,
      "outputs": [
        {
          "output_type": "execute_result",
          "data": {
            "text/plain": [
              "array([2, 4, 6])"
            ]
          },
          "metadata": {
            "tags": []
          },
          "execution_count": 38
        }
      ]
    },
    {
      "cell_type": "markdown",
      "metadata": {
        "id": "tZ5yic8k0Kfa"
      },
      "source": [
        "### Sorting, Search, Split and Join"
      ]
    },
    {
      "cell_type": "code",
      "metadata": {
        "id": "NymbKVEv0Kfc"
      },
      "source": [
        "import numpy as np"
      ],
      "execution_count": null,
      "outputs": []
    },
    {
      "cell_type": "code",
      "metadata": {
        "id": "D0EzIWC10Kfd",
        "outputId": "6b04dcb3-8722-41f6-822b-bce531781e00"
      },
      "source": [
        "a = np.array([2, 5, 1, 6, 4, 3])   #Sorting\n",
        "np.sort(a)"
      ],
      "execution_count": null,
      "outputs": [
        {
          "output_type": "execute_result",
          "data": {
            "text/plain": [
              "array([1, 2, 3, 4, 5, 6])"
            ]
          },
          "metadata": {
            "tags": []
          },
          "execution_count": 2
        }
      ]
    },
    {
      "cell_type": "code",
      "metadata": {
        "id": "47bMZ9Mc0Kfe",
        "outputId": "c2afdb30-c700-46b4-fcb3-2d59566e46da"
      },
      "source": [
        "a = np.array(['Carrot', 'Banana', 'Apple', 'Tumeric'])   #Sorting\n",
        "np.sort(a)"
      ],
      "execution_count": null,
      "outputs": [
        {
          "output_type": "execute_result",
          "data": {
            "text/plain": [
              "array(['Apple', 'Banana', 'Carrot', 'Tumeric'], dtype='<U7')"
            ]
          },
          "metadata": {
            "tags": []
          },
          "execution_count": 3
        }
      ]
    },
    {
      "cell_type": "code",
      "metadata": {
        "id": "W3ylZrh00KgQ",
        "outputId": "fc5d4825-1718-4813-cbe6-83fe78dfa970"
      },
      "source": [
        "a = np.array([[2, 5, 1, 6, 3], [45, 23, 21, 67, 19]])   #Sorting\n",
        "np.sort(a)"
      ],
      "execution_count": null,
      "outputs": [
        {
          "output_type": "execute_result",
          "data": {
            "text/plain": [
              "array([[ 1,  2,  3,  5,  6],\n",
              "       [19, 21, 23, 45, 67]])"
            ]
          },
          "metadata": {
            "tags": []
          },
          "execution_count": 4
        }
      ]
    },
    {
      "cell_type": "code",
      "metadata": {
        "id": "KuSMXf3p0KgR",
        "outputId": "48b7905d-ee87-4f94-ec0a-d990bb1b526a"
      },
      "source": [
        "a = np.array([2, 5, 1, 6, 4, 3])   #Searching\n",
        "x = np.where(a == 6)\n",
        "x"
      ],
      "execution_count": null,
      "outputs": [
        {
          "output_type": "execute_result",
          "data": {
            "text/plain": [
              "(array([3]),)"
            ]
          },
          "metadata": {
            "tags": []
          },
          "execution_count": 5
        }
      ]
    },
    {
      "cell_type": "code",
      "metadata": {
        "id": "7RjnNsnV0KgT",
        "outputId": "bf698ce4-0217-4e37-8587-d65db6db6820"
      },
      "source": [
        "a = np.array([2, 5, 1, 6, 4, 3])   #Searching\n",
        "x = np.where(a % 2 == 1)\n",
        "x"
      ],
      "execution_count": null,
      "outputs": [
        {
          "output_type": "execute_result",
          "data": {
            "text/plain": [
              "(array([1, 2, 5]),)"
            ]
          },
          "metadata": {
            "tags": []
          },
          "execution_count": 6
        }
      ]
    },
    {
      "cell_type": "code",
      "metadata": {
        "id": "18tGn-Jr0KgV",
        "outputId": "6b355013-2e25-4ae6-d0bb-2c5445b09414"
      },
      "source": [
        "a = np.array([2, 5, 1, 6, 4, 3])   #Searching\n",
        "x = np.where(a % 2 == 0)\n",
        "x"
      ],
      "execution_count": null,
      "outputs": [
        {
          "output_type": "execute_result",
          "data": {
            "text/plain": [
              "(array([0, 3, 4]),)"
            ]
          },
          "metadata": {
            "tags": []
          },
          "execution_count": 7
        }
      ]
    },
    {
      "cell_type": "code",
      "metadata": {
        "id": "lYmbwnka0KgW",
        "outputId": "5c6299ad-0534-44c6-a7bf-b0a525723b4d"
      },
      "source": [
        "a = np.array([2, 5, 1, 6, 4, 3])   #Searching\n",
        "x = np.searchsorted(a, 1)\n",
        "x"
      ],
      "execution_count": null,
      "outputs": [
        {
          "output_type": "execute_result",
          "data": {
            "text/plain": [
              "0"
            ]
          },
          "metadata": {
            "tags": []
          },
          "execution_count": 8
        }
      ]
    },
    {
      "cell_type": "code",
      "metadata": {
        "id": "C1aNDoDP0KgY",
        "outputId": "58404c2b-833f-458e-acb7-52d31b6467e7"
      },
      "source": [
        "a = np.array([2, 5, 1, 6, 4, 3])   #Searching. We can determine which side to start from\n",
        "x = np.searchsorted(a, 4, side = 'right')\n",
        "x"
      ],
      "execution_count": null,
      "outputs": [
        {
          "output_type": "execute_result",
          "data": {
            "text/plain": [
              "1"
            ]
          },
          "metadata": {
            "tags": []
          },
          "execution_count": 11
        }
      ]
    },
    {
      "cell_type": "code",
      "metadata": {
        "id": "tD0PuC6f0KgZ",
        "outputId": "acb65d1f-0db3-4776-fac6-c18118961e8d"
      },
      "source": [
        "a = np.array([2, 5, 1, 6, 4, 3]) #Spliting\n",
        "new = np.array_split(a, 3)\n",
        "new"
      ],
      "execution_count": null,
      "outputs": [
        {
          "output_type": "execute_result",
          "data": {
            "text/plain": [
              "[array([2, 5]), array([1, 6]), array([4, 3])]"
            ]
          },
          "metadata": {
            "tags": []
          },
          "execution_count": 12
        }
      ]
    },
    {
      "cell_type": "code",
      "metadata": {
        "id": "1vwSPX1U0Kgb",
        "outputId": "cdb5c0aa-9e94-43e5-b986-fe6565c1428a"
      },
      "source": [
        "a = np.array([2, 5, 1, 6, 4, 3]) #Spliting\n",
        "new = np.array_split(a, 3)\n",
        "new[0]"
      ],
      "execution_count": null,
      "outputs": [
        {
          "output_type": "execute_result",
          "data": {
            "text/plain": [
              "array([2, 5])"
            ]
          },
          "metadata": {
            "tags": []
          },
          "execution_count": 13
        }
      ]
    },
    {
      "cell_type": "code",
      "metadata": {
        "id": "8-G1L1PJ0Kgd",
        "outputId": "c6c81d53-d849-468c-9331-3284f9abad06"
      },
      "source": [
        "a = np.array([[1,2,3], [5,6,7], [9,10,11], [8,12,13], [14,15,16], [17,18,19]])\n",
        "new = np.hsplit(a, 3)    #Horizontal split\n",
        "new"
      ],
      "execution_count": null,
      "outputs": [
        {
          "output_type": "execute_result",
          "data": {
            "text/plain": [
              "[array([[ 1],\n",
              "        [ 5],\n",
              "        [ 9],\n",
              "        [ 8],\n",
              "        [14],\n",
              "        [17]]),\n",
              " array([[ 2],\n",
              "        [ 6],\n",
              "        [10],\n",
              "        [12],\n",
              "        [15],\n",
              "        [18]]),\n",
              " array([[ 3],\n",
              "        [ 7],\n",
              "        [11],\n",
              "        [13],\n",
              "        [16],\n",
              "        [19]])]"
            ]
          },
          "metadata": {
            "tags": []
          },
          "execution_count": 15
        }
      ]
    },
    {
      "cell_type": "code",
      "metadata": {
        "id": "NRNdmMDJ0Kgh",
        "outputId": "613f3951-4a4f-4e5b-ca6c-7796d6a28875"
      },
      "source": [
        "a = np.array([[1,2,3], [5,6,7], [9,10,11], [8,12,13], [14,15,16], [17,18,19]])\n",
        "new = np.vsplit(a, 3)    #Vertical split\n",
        "new"
      ],
      "execution_count": null,
      "outputs": [
        {
          "output_type": "execute_result",
          "data": {
            "text/plain": [
              "[array([[1, 2, 3],\n",
              "        [5, 6, 7]]),\n",
              " array([[ 9, 10, 11],\n",
              "        [ 8, 12, 13]]),\n",
              " array([[14, 15, 16],\n",
              "        [17, 18, 19]])]"
            ]
          },
          "metadata": {
            "tags": []
          },
          "execution_count": 16
        }
      ]
    },
    {
      "cell_type": "code",
      "metadata": {
        "id": "_krwqz2B0Kgj"
      },
      "source": [
        "a1 = np.array([1,2,3]) #Joining\n",
        "a2 = np.array([5,6,7]) \n",
        "arr = np.concatenate((a1, a2))"
      ],
      "execution_count": null,
      "outputs": []
    },
    {
      "cell_type": "code",
      "metadata": {
        "id": "YgWi_Frs0Kgk",
        "outputId": "4afb2f67-8bec-481a-d534-280e2e8a3854"
      },
      "source": [
        "arr"
      ],
      "execution_count": null,
      "outputs": [
        {
          "output_type": "execute_result",
          "data": {
            "text/plain": [
              "array([1, 2, 3, 5, 6, 7])"
            ]
          },
          "metadata": {
            "tags": []
          },
          "execution_count": 19
        }
      ]
    },
    {
      "cell_type": "code",
      "metadata": {
        "id": "_ZO0qsG00Kgn"
      },
      "source": [
        "a1 = np.array([[1,2],[3,4]]) \n",
        "a2 = np.array([[5,6],[7,8]]) \n",
        "arr = np.concatenate((a1, a2), axis = 0)"
      ],
      "execution_count": null,
      "outputs": []
    },
    {
      "cell_type": "code",
      "metadata": {
        "id": "2OsaQnVq0Kgq",
        "outputId": "3d45230a-92d1-44bc-e572-673d30e07e5f"
      },
      "source": [
        "arr"
      ],
      "execution_count": null,
      "outputs": [
        {
          "output_type": "execute_result",
          "data": {
            "text/plain": [
              "array([[1, 2],\n",
              "       [3, 4],\n",
              "       [5, 6],\n",
              "       [7, 8]])"
            ]
          },
          "metadata": {
            "tags": []
          },
          "execution_count": 22
        }
      ]
    },
    {
      "cell_type": "code",
      "metadata": {
        "id": "gUkMKE5c0Kgt"
      },
      "source": [
        "a1 = np.array([[1,2],[3,4]]) \n",
        "a2 = np.array([[5,6],[7,8]]) \n",
        "arr = np.concatenate((a1, a2), axis = 1)"
      ],
      "execution_count": null,
      "outputs": []
    },
    {
      "cell_type": "code",
      "metadata": {
        "id": "qMd1PAMf0Kgw"
      },
      "source": [
        "a1 = np.array([1,2,3]) \n",
        "a2 = np.array([5,6,7]) \n",
        "arr = np.stack((a1, a2), axis=0)"
      ],
      "execution_count": null,
      "outputs": []
    },
    {
      "cell_type": "code",
      "metadata": {
        "id": "VTk7c3ai0Kgx",
        "outputId": "72a6ea3e-04a9-482a-b593-1aeef9f61742"
      },
      "source": [
        "arr"
      ],
      "execution_count": null,
      "outputs": [
        {
          "output_type": "execute_result",
          "data": {
            "text/plain": [
              "array([[1, 2, 3],\n",
              "       [5, 6, 7]])"
            ]
          },
          "metadata": {
            "tags": []
          },
          "execution_count": 25
        }
      ]
    },
    {
      "cell_type": "code",
      "metadata": {
        "id": "uh4r45al0Khc",
        "outputId": "dc032c02-cb77-4fc8-eb63-9c6067a18ffc"
      },
      "source": [
        "a1 = np.array([1,2,3]) \n",
        "a2 = np.array([5,6,7]) \n",
        "arr = np.stack((a1, a2), axis=1)\n",
        "arr"
      ],
      "execution_count": null,
      "outputs": [
        {
          "output_type": "execute_result",
          "data": {
            "text/plain": [
              "array([[1, 5],\n",
              "       [2, 6],\n",
              "       [3, 7]])"
            ]
          },
          "metadata": {
            "tags": []
          },
          "execution_count": 26
        }
      ]
    },
    {
      "cell_type": "code",
      "metadata": {
        "id": "WJvU1eIF0Khd",
        "outputId": "ae2ff07c-e1a6-44e3-a574-ef5e6181e755"
      },
      "source": [
        "a1 = np.array([1,2,3]) #Instead of axis 0\n",
        "a2 = np.array([5,6,7]) \n",
        "arr = np.hstack((a1, a2))\n",
        "arr"
      ],
      "execution_count": null,
      "outputs": [
        {
          "output_type": "execute_result",
          "data": {
            "text/plain": [
              "array([1, 2, 3, 5, 6, 7])"
            ]
          },
          "metadata": {
            "tags": []
          },
          "execution_count": 28
        }
      ]
    },
    {
      "cell_type": "code",
      "metadata": {
        "id": "rU9wcvsy0Khf",
        "outputId": "fe145f9e-7efb-4dca-bbf9-e4f460dcda8b"
      },
      "source": [
        "a1 = np.array([1,2,3]) #Instead of axis 1\n",
        "a2 = np.array([5,6,7]) \n",
        "arr = np.vstack((a1, a2))\n",
        "arr"
      ],
      "execution_count": null,
      "outputs": [
        {
          "output_type": "execute_result",
          "data": {
            "text/plain": [
              "array([[1, 2, 3],\n",
              "       [5, 6, 7]])"
            ]
          },
          "metadata": {
            "tags": []
          },
          "execution_count": 29
        }
      ]
    },
    {
      "cell_type": "code",
      "metadata": {
        "id": "OtVk-EIn0Khj"
      },
      "source": [
        "import matplotlib.pyplot as plt"
      ],
      "execution_count": null,
      "outputs": []
    },
    {
      "cell_type": "code",
      "metadata": {
        "id": "ql17gi3y0Khl",
        "outputId": "55702568-a719-4879-e6d8-22930ad66349"
      },
      "source": [
        "x = np.arange(1, 11)\n",
        "y = 2 * x + 5\n",
        "plt.title('Matplotlib demo graph')\n",
        "plt.xlabel('x Axis')\n",
        "plt.ylabel('y Axis')\n",
        "plt.plot(x, y)\n",
        "plt.show()"
      ],
      "execution_count": null,
      "outputs": [
        {
          "output_type": "display_data",
          "data": {
            "image/png": "[encoded data removed]",
            "text/plain": [
              "<Figure size 432x288 with 1 Axes>"
            ]
          },
          "metadata": {
            "tags": [],
            "needs_background": "light"
          }
        }
      ]
    },
    {
      "cell_type": "code",
      "metadata": {
        "id": "EuQUuP-O0Khn",
        "outputId": "0a985b4b-27be-4e9c-c0a8-f6d18fa12e37"
      },
      "source": [
        "x = np.arange(1, 11)\n",
        "y = 2 * x + 5\n",
        "plt.title('Matplotlib demo graph')\n",
        "plt.xlabel('x Axis')\n",
        "plt.ylabel('y Axis')\n",
        "plt.plot(x, y, 'ob')\n",
        "plt.show()"
      ],
      "execution_count": null,
      "outputs": [
        {
          "output_type": "display_data",
          "data": {
            "image/png": "[encoded data removed]",
            "text/plain": [
              "<Figure size 432x288 with 1 Axes>"
            ]
          },
          "metadata": {
            "tags": [],
            "needs_background": "light"
          }
        }
      ]
    },
    {
      "cell_type": "code",
      "metadata": {
        "id": "jwqpNbK10Kho"
      },
      "source": [
        ""
      ],
      "execution_count": null,
      "outputs": []
    }
  ]
}